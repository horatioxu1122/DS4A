{
 "cells": [
  {
   "cell_type": "markdown",
   "metadata": {
    "tags": [
     "67_min",
     "111_min"
    ]
   },
   "source": [
    "# Creating a sales dashboard in Tableau\n",
    "\n",
    "![Piano](data/images/piano.jpg)"
   ]
  },
  {
   "cell_type": "markdown",
   "metadata": {
    "tags": [
     "1_min"
    ]
   },
   "source": [
    "## Goals\n",
    "\n",
    "In this case you will learn how to build an interactive dashboard using [Tableau](https://www.tableau.com/products/desktop). You will be introduced to Tableau worksheets, charts, and dashboards, and will learn how to drill down and how to publish your reports on [Tableau Public](https://public.tableau.com/en-us/s/)."
   ]
  },
  {
   "cell_type": "markdown",
   "metadata": {
    "tags": [
     "5_min"
    ]
   },
   "source": [
    "## Introduction\n",
    "\n",
    "**Business Context.** You are a member of the business analytics team of *Simply Music*, a Florida-based musical instrument store that has been growing at a fast pace over the last few years. Management is keen to find out what the most popular items are and which locations are the most profitable, in order to adjust their marketing strategies and their stock logistics to increase sales and revenue. They also want to learn about the number of deliveries made outside Florida, since they are contemplating opening a new branch in another state.\n",
    "\n",
    "**Business Problem.** You are tasked with creating a sales dashboard for management to use. You already designed the dashboard and chose what charts will be included. Your task now is to **build the dashboard using [Tableau](https://www.tableau.com/products/desktop)**, one of the leading Business Intelligence (BI) tools in the market. Remember that the managers are interested in having these three broad questions answered:\n",
    "\n",
    "1. How have our sales, revenue and profits evolved over time?\n",
    "2. What are the locations with the highest numbers of sales and profit?\n",
    "3. What are the items with the highest numbers of sales, profit and revenue across: product description, product type, product line, location, customer age group and state of delivery?\n",
    "\n",
    "**Analytical Context.** You have been given a sample dataset of 5000 sales records from Simply Music, corresponding to the years 2018 and 2019. The data points are in the [`simply_music.csv`](data/simply_music.csv) file."
   ]
  },
  {
   "cell_type": "markdown",
   "metadata": {
    "tags": [
     "2_min"
    ]
   },
   "source": [
    "## What is Tableau?\n",
    "\n",
    "[Tableau](https://www.tableau.com/) is a software company that specializes in developing Business Intelligence (BI) tools. Its flagship product, the powerful [Tableau Desktop](https://www.tableau.com/products/desktop), is a direct competitor of other BI suites like PowerBI and Google Data Studio, and has seen an increase in popularity in the last few years. It is an excellent tool for data analysis and a must-know if you want to have a career as a data professional.\n",
    "\n",
    "We will be developing our dashboard using [Tableau Public](https://www.tableau.com/products/public), which is the free version of Tableau Desktop. If you use this free version, all of your dashboards will be published on the web. [Here](https://public.tableau.com/en-us/gallery/) is a gallery of some nice dashboards that people have uploaded to Tableau Public in the past."
   ]
  },
  {
   "cell_type": "markdown",
   "metadata": {
    "tags": [
     "3_min"
    ]
   },
   "source": [
    "### The planned layout\n",
    "\n",
    "We previously decided on two layouts. The first one was the Bird's-eye-view page:\n",
    "\n",
    "<img src=\"data/images/birds_eye_layout.jpg\" alt=\"Bird's-eye-view\" width=\"500\">\n",
    "\n",
    "And the second was the Detailed view page:\n",
    "\n",
    "<img src=\"data/images/detailed_view_layout.jpg\" alt=\"Detailed view\" width=\"500\">\n",
    "\n",
    "We also said that we wanted to have a navigation sidebar with the names of the pages. This is not really necessary in Tableau because pages are shown as tabs at the top of the screen (more on that later), so these two layouts are all that we need for now."
   ]
  },
  {
   "cell_type": "markdown",
   "metadata": {
    "tags": [
     "5_min"
    ]
   },
   "source": [
    "## Creating our dashboard in Tableau Public\n",
    "\n",
    "### Loading our data\n",
    "\n",
    "Let's open Tableau Desktop. The first thing we have to do is upload our data. Go to \"Connect -> To a File -> Text File\":\n",
    "\n",
    "![Connect to CSV](data/images/t_connect_text_file.png \"Connect to CSV File\")\n",
    "\n",
    "Select the `simply_music.csv` file and click \"Upload\":\n",
    "\n",
    "![CSV upload](data/images/t_select_simplymusic.png \"CSV upload\")\n",
    "\n",
    "After you have uploaded the table from your computer, you will see the `Data Source` page, which has two panels. The left one displays information about the data you just imported, and the right one is the canvas, which allows you to create relationships between tables."
   ]
  },
  {
   "cell_type": "markdown",
   "metadata": {
    "tags": [
     "2_min"
    ]
   },
   "source": [
    "### Modeling our data\n",
    "\n",
    "You will see the `simply_music.csv` file, including a preview of the columns and a few rows of data. A new tab will be created once the data is loaded. To start visualizing the data, click on the worksheet:\n",
    "\n",
    "![Click on Worksheet](data/images/t_simplymusic_model.png \"Click on Worksheet\")\n",
    "\n",
    "**Note:** This is where you would normally model your data - however, in our case we don't have any data that needs modeling because we are working with a single file that has been cleaned already, rather than multiple files from multiple sources."
   ]
  },
  {
   "cell_type": "markdown",
   "metadata": {
    "tags": [
     "3_min"
    ]
   },
   "source": [
    "### Creating the visualizations\n",
    "\n",
    "Tableau uses a workbook and sheet file structure, similar to Microsoft Excel (a single workbook contains one or more sheets). A sheet can be a worksheet, a dashboard, or a story. A **worksheet** shows the dataset and its metadata, a **dashboard** shows different views from multiple worksheets, and a **story** is a collection of worksheets or dashboards that together form a narrative from the data.\n",
    "\n",
    "Before creating multiple worksheets, let's rename the worksheet from `Sheet 1` to `Location of Sales` by right-clicking on its name, then add two dashboards and rename them from `Dashboard 1` to `Bird's-Eye View`, and from `Dashboard 2` to `Detailed` (the `New Dashboard` button is the one in the middle):\n",
    "\n",
    "![Rename Sheets and Add Dashboards](data/images/t_rename_worksheet_add_dashboard.png \"Rename Sheets and Add Dashboards\")"
   ]
  },
  {
   "cell_type": "markdown",
   "metadata": {},
   "source": [
    "Remember that we have two pages - Bird's-Eye View and Detailed View. If you click on any of the worksheets or dashboards, they will be blank because we have not created any visualizations yet.\n",
    "\n",
    "![Rename Page](data/images/t_dashboard_blank.png \"Blank Dashboard\")\n",
    "\n",
    "Let's start populating the first dashboard, \"Bird's-Eye View\"."
   ]
  },
  {
   "cell_type": "markdown",
   "metadata": {
    "tags": [
     "4_min"
    ]
   },
   "source": [
    "## The Bird's-Eye View page\n",
    "\n",
    "### Creating calculated fields\n",
    "\n",
    "While on the `Location of Sales` worksheet, you'll see that there is no `Profit` column. Since this will be one of the main metrics of our dashboard, we need to create it. This is our definition of profit:\n",
    "\n",
    "$$Profit = Dollars{\\ }Sold - Total{\\ }Cost$$\n",
    "\n",
    "`Total_Cost` doesn't exist either, so we'll create it. The formula for this variable is:\n",
    "\n",
    "$$Total{\\ }Cost = Units{\\ }Sold \\times Cost$$\n",
    "\n",
    "To create a calculated field, go to the Data pane and right-click on the name of the `Cost` variable. Then click on `Create Calculated Field...`. A box will appear with the name `Calculation1`. Rename `Calculation1` to `Total Cost` and write the following in the formula box:\n",
    "\n",
    "```\n",
    "[Units Sold] * [Cost]\n",
    "```\n",
    "![Total Cost](data/images/t_cost_calc.png \"Total Cost\")\n",
    "\n",
    "Click `OK`."
   ]
  },
  {
   "cell_type": "markdown",
   "metadata": {
    "tags": [
     "3_min"
    ]
   },
   "source": [
    "### Exercise 1\n",
    "\n",
    "We did the `Total Cost` calculation first because we need to reference that measure in the profit calculation. Now repeat the process, this time right-clicking on the `Total Cost` variable header. Name the new field `Profit` and use the formula for profit that we mentioned above."
   ]
  },
  {
   "cell_type": "markdown",
   "metadata": {
    "tags": [
     "ans_st"
    ]
   },
   "source": [
    "**Answer.**"
   ]
  },
  {
   "cell_type": "markdown",
   "metadata": {},
   "source": [
    "-------"
   ]
  },
  {
   "cell_type": "markdown",
   "metadata": {
    "tags": [
     "2_min"
    ]
   },
   "source": [
    "### Creating visualizations\n",
    "\n",
    "When you build a view, you add fields to the worksheet using an interface reminiscent of a pivot table. This video demonstrates how using the `Profit` column as an example:\n",
    "\n",
    "![Dragging fields](data/images/t_drag_field.gif)"
   ]
  },
  {
   "cell_type": "markdown",
   "metadata": {
    "tags": [
     "6_min"
    ]
   },
   "source": [
    "### Creating charts\n",
    "\n",
    "Now we have our `Profit` column and are ready to create the first chart. This will be a line chart according to the layout we planned. The dimension will be the date (since it is a time series plot) and the measures will be revenue and profit. Follow the steps below to build it:\n",
    "\n",
    "1. Create a new worksheet called `Revenue vs profit`.\n",
    "2. In that worksheet, select both `Profit` and `Dollars Sold` by holding down \"CTRL\" on your keyboard, selecting both measures, and dragging them to the \"Rows\" shelf. Make sure that the measures are set to \"Sum\".\n",
    "3. Select the `Time Key` dimension and drag it to the \"Columns\" shelf.\n",
    "4. Click the \"Show Me\" button and select \"Lines (Dual)\".\n",
    "5. Let's change the date granularity to monthly. Click the arrow next to the header of the `Time Key` dimension and select \"Month\".\n",
    "6. Right-click on the $x$-axis and click \"Edit Axis\", then update \"Axis Titles\" to \"Month\". Your chart should look something like this:\n",
    "\n",
    "![Line Chart Final](data/images/t_line_chart_profit.png)"
   ]
  },
  {
   "cell_type": "markdown",
   "metadata": {
    "tags": [
     "4_min"
    ]
   },
   "source": [
    "### Exercise 2\n",
    "\n",
    "Carry out the above process for your `Sales` line chart (you will only need one vertical axis in this one)."
   ]
  },
  {
   "cell_type": "markdown",
   "metadata": {
    "tags": [
     "ans_st"
    ]
   },
   "source": [
    "**Answer.**"
   ]
  },
  {
   "cell_type": "markdown",
   "metadata": {},
   "source": [
    "-------"
   ]
  },
  {
   "cell_type": "markdown",
   "metadata": {
    "tags": [
     "6_min"
    ]
   },
   "source": [
    "### Exercise 3\n",
    "\n",
    "Now let's create the revenue and profit grouped bar chart, according to the layout we planned. The dimension will be `Channel` and the measures will be `Revenue` (the sum of `Dollars Sold`) and the sum of `Profit`.\n",
    "\n",
    "**Hint:** You will have to use the \"Swap Rows and Columns\" icon:\n",
    "\n",
    "![Swap rows and columns](data/images/t_swap_rows_columns.png)"
   ]
  },
  {
   "cell_type": "markdown",
   "metadata": {
    "tags": [
     "ans_st"
    ]
   },
   "source": [
    "**Answer.**"
   ]
  },
  {
   "cell_type": "markdown",
   "metadata": {},
   "source": [
    "-------"
   ]
  },
  {
   "cell_type": "markdown",
   "metadata": {
    "tags": [
     "4_min"
    ]
   },
   "source": [
    "### Exercise 4\n",
    "\n",
    "Create the bar chart that shows sales (units sold) by location."
   ]
  },
  {
   "cell_type": "markdown",
   "metadata": {
    "tags": [
     "ans_st"
    ]
   },
   "source": [
    "**Answer.**"
   ]
  },
  {
   "cell_type": "markdown",
   "metadata": {},
   "source": [
    "-------"
   ]
  },
  {
   "cell_type": "markdown",
   "metadata": {
    "tags": [
     "15_min"
    ]
   },
   "source": [
    "### Adding the charts to the Bird's-Eye View page\n",
    "\n",
    "Let's add our charts to the first dashboard. First we will add a visualization to the dashboard - in the \"Sheets\" pane, click on the sheet you would like to add and drag it onto the canvas.\n",
    "\n",
    "![Add Sheet](data/images/t_drag_worksheet.gif)"
   ]
  },
  {
   "cell_type": "markdown",
   "metadata": {},
   "source": [
    "Second, we'll add the company logo (it is in the `data/images` folder as [`logo.jpg`](data/images/logo.jpg)). To insert an image, go to the `Object` pane, then click on `Image` and drag it onto the dashboard canvas. Select the image by clicking `Choose`, then find it and click `Fit Image` and then `OK`:\n",
    "\n",
    "![Add Logo](data/images/t_insert_logo.gif)"
   ]
  },
  {
   "cell_type": "markdown",
   "metadata": {},
   "source": [
    "You'll notice the visualization colors don't align with the logo colors. Go to the worksheet and adjust the colors to red and gray:\n",
    "\n",
    "![Change Colors](data/images/t_colors.gif)"
   ]
  },
  {
   "cell_type": "markdown",
   "metadata": {},
   "source": [
    "Now is a good moment to save our work. Let's upload our progress to Tableau Public. To do so, go to \"File -> Save to Tableau Public As\". You will be prompted to login to your Tableau account. Create an account if you don't have one. Then give your workbook a descriptive name and save it:\n",
    "\n",
    "![Saving to Tableau Public](data/images/t_save_tableau_public.png)"
   ]
  },
  {
   "cell_type": "markdown",
   "metadata": {},
   "source": [
    "Now we need to add a filter for our user to select a date range and update the charts in the dashboard accordingly. We are using a **data source filter** (which filters the data source directly), and we apply this filter by adding the `Time Key` to the \"Filters\" shelf. To do this, we need to go back to one of the sheets and drag the `Time Key` dimension to the \"Filters\" shelf.\n",
    "\n",
    "Next, we will select \"Range of Dates -> Next\". We will not be changing the filter here, so leave the dates as the default (which are the earliest date in the dataset, and the latest date in the dataset). Next, we right-click on the `Time Key` in the \"Filters\" shelf, then click \"Apply to Worksheets -> All Using This Data Source\". This applies the filter to any visualization created from this dataset:\n",
    "\n",
    "![Add Filters](data/images/t_filter.gif \"Add Filters\")\n",
    "\n",
    "To learn more about filters, you can check [the documentation](https://help.tableau.com/current/pro/desktop/en-us/filtering.htm)."
   ]
  },
  {
   "cell_type": "markdown",
   "metadata": {},
   "source": [
    "To add the filter to the dashboard, we return to the dashboard and select the visual. A down arrow will show up which leads to more available options. Select \"Filters -> Time Key\":\n",
    "\n",
    "![Dashboard Filters](data/images/t_dashboard_filter.png)"
   ]
  },
  {
   "cell_type": "markdown",
   "metadata": {},
   "source": [
    "To add a scorecard to your dashboard, you create a new worksheet and add the desired metric (with the appropriate aggregation function) to the rows field. Then you select the \"Text tables\" chart type. Finally, you add the table to your dashboard:\n",
    "\n",
    "![Add scorecard](data/images/t_add_scorecard.gif)"
   ]
  },
  {
   "cell_type": "markdown",
   "metadata": {},
   "source": [
    "To edit the name of a visual, double-click the title. To format the size or color of visuals, right click on the graphic and click \"Format\"."
   ]
  },
  {
   "cell_type": "markdown",
   "metadata": {
    "tags": [
     "5_min"
    ]
   },
   "source": [
    "### Exercise 5\n",
    "\n",
    "#### 5.1\n",
    "\n",
    "Create the `Profit`, `Revenue`, and `Units sold` scorecards and add them to the dashboard."
   ]
  },
  {
   "cell_type": "markdown",
   "metadata": {
    "tags": [
     "7_min"
    ]
   },
   "source": [
    "#### 5.2\n",
    "\n",
    "Add the rest of the charts to the dashboard. It should end up looking similar to this (don't worry if it is not exactly equal - we tweaked the aesthetics a bit):\n",
    "\n",
    "![Bird's eye view screenshot](data/images/t_birds_eye_view_screenshot.png)"
   ]
  },
  {
   "cell_type": "markdown",
   "metadata": {
    "tags": [
     "6_min"
    ]
   },
   "source": [
    "## The Detailed View page\n",
    "\n",
    "Let's now populate the second page, the \"Detailed View\", starting with the geographical bubble chart. We first need to split the state names, since they come in the format \"US-Delaware\", and Tableau requires that the state names are bare (e.g. \"Delaware\").\n",
    "\n",
    "To do this, simply go to `Data Source`, right-click on the `Destination State` field, and select `Split`. A new column `Destination State - Split 1` will be created in the data source - this is the column we will be working with. Now follow these steps:\n",
    "\n",
    "1. Create a new worksheet.\n",
    "2. Drag `Destination State - Split 1` to the `Columns` area and `Units sold` to the rows area.\n",
    "3. Go to `Show me` and select `Symbol maps` (this is the way Tableau calls geograhical bubble charts). A new map will be created.\n",
    "4. Now we need to get rid of null values, since in Tableau these can alter the scale that is used to plot the bubbles. Drag the `Destination State - Split 1` field to the `Filters` card and make sure to deselect `Null` in the `Edit filter` menu.\n",
    "5. Finally, edit the size of the bubbles by clicking on `Size` in the `Marks` card.\n",
    "\n",
    "The below video shows the full process:\n",
    "\n",
    "![Geochart](data/images/t_geochart.gif)"
   ]
  },
  {
   "cell_type": "markdown",
   "metadata": {
    "tags": [
     "6_min"
    ]
   },
   "source": [
    "### Adding drill-down\n",
    "\n",
    "When you add drill-down, you define a hierarchy of categories such that when you select one of them in your dashboard, all the subcategories show. When a chart has drill-down enabled, a small \"+\" will appear on hover. If you click it, the subcategories will show. To drill up, you hover again and click on the \"-\" sign:\n",
    "\n",
    "![Drill-down example](data/images/t_drill_down_how.gif)\n",
    "\n",
    "To enable drill-down in a Tableau chart, you need to first create a hierarchy. You do that by dragging the fields in the Data pane that would act as subcategories and nesting them inside the supercategory like this:\n",
    "\n",
    "![A hierarchy](data/images/t_hierarchy.gif)\n",
    "\n",
    "You can order the fields to show that there are more levels in the hierarchy. For instance, in the hierarchy above, `Description` is nested inside `Product type`, which is itself nested inside `Product line`.\n",
    "\n",
    "Then you simply need to drag the hierarchy to your rows or columns area and create the chart as usual. For the drill-down to be complete, you have to select each visual and select \"Use as Filter\" (the funnel icon):\n",
    "\n",
    "![Use as filter](data/images/t_use_as_filter.png)\n",
    "\n",
    "Once you apply this to all the filters in your dashboard, all the charts will update dynamically."
   ]
  },
  {
   "cell_type": "markdown",
   "metadata": {
    "tags": [
     "15_min"
    ]
   },
   "source": [
    "### Exercise 6\n",
    "\n",
    "Now populate and organize the second page, the \"Detailed View\". Add drill-down to the two bar charts that show the most profitable items and the most sold items. Your second page should be similar to the below (we've tweaked the aesthetics just a bit, so don't worry if the look isn't exactly the same):\n",
    "\n",
    "![Detailed page end result](data/images/t_detailed.png)"
   ]
  },
  {
   "cell_type": "markdown",
   "metadata": {
    "tags": [
     "5_min"
    ]
   },
   "source": [
    "## Publishing your dashboard\n",
    "\n",
    "Now our report is ready to be presented to users! The last step is to actually publish it on Tableau Public. This is pretty straightforward - follow these steps:\n",
    "\n",
    "1. Right-click on all of the worksheets and click \"Hide\". Don't hide your dashboards - only the worksheets where the individual charts were created.\n",
    "2. Go to \"File -> Save to Tableau Public\" to save your dashboard online. Tableau will open a web browser tab where you will find your published dashboard.\n",
    "3. On the Tableau website, click on the gear icon and toggle the \"Show sheets\" selector to activate it. This will make both dashboards show as tabs on the Tableau Public website:\n",
    "\n",
    "![Show as tabs](data/images/t_show_as_tabs.gif)\n",
    "\n",
    "You can then click on the share icon that is two places to the left of the gear icon and copy the link to your dashboard. Share it with the class! Here is [ours](https://public.tableau.com/views/SimplyMusicdashboard/Birds-Eyeview?:language=en-US&publish=yes&:display_count=n&:origin=viz_share_link) for your reference.\n",
    "\n",
    "**Hint:** If you want to visualize your dashboard in full-screen mode (which we recommend), click on the \"Full Screen\" icon in the bottom-right corner of the dashboard in Tableau Public."
   ]
  },
  {
   "cell_type": "markdown",
   "metadata": {
    "tags": [
     "2_min"
    ]
   },
   "source": [
    "## Conclusions & Takeaways\n",
    "\n",
    "In this case you learned how to make and publish a dashboard using Tableau Public. You added drill-down and various filters to the different charts, and included not only traditional charts but also a geographical bubble chart and some scorecards."
   ]
  },
  {
   "cell_type": "markdown",
   "metadata": {},
   "source": [
    "## Attribution\n",
    "\n",
    "\"Ernst Kaps model 158B grand piano\", Phil Shayer, Byron Bay, 22 January 2012, Creative Commons Attribution-Share Alike 4.0 International license, https://commons.wikimedia.org/wiki/File:ERNST_KAPS_MODEL_158B_GRAND_PIANO.jpg"
   ]
  }
 ],
 "metadata": {
  "c1_recart": "7.12.0-57c20131aabc1dc2a8c675852d80a7da"
 },
 "nbformat": 4,
 "nbformat_minor": 5
}
