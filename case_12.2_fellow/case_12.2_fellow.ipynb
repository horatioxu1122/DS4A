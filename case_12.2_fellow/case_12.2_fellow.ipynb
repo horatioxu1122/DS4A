{
 "cells": [
  {
   "cell_type": "markdown",
   "metadata": {
    "tags": [
     "61_min",
     "110_min"
    ]
   },
   "source": [
    "# Evaluating employee performance"
   ]
  },
  {
   "cell_type": "markdown",
   "metadata": {
    "tags": [
     "1_min"
    ]
   },
   "source": [
    "## Goals\n",
    "\n",
    "In this case you will learn how to use aggregate functions to summarize data within a database. You will also develop a greater understanding of the structure of databases and how to use this structure to perform more advanced queries across multiple tables."
   ]
  },
  {
   "cell_type": "markdown",
   "metadata": {
    "tags": [
     "4_min"
    ]
   },
   "source": [
    "## Introduction\n",
    "\n",
    "**Business Context.** You are an HR representative at a large financial services firm that sells a diverse set of products. In order to make these sales, the firm relies on a call center where sales agents make calls to current as well as prospective customers. The company would like you to analyze their data about the performance of their sales agents and determine who to promote/keep and who to cut.\n",
    "\n",
    "**Business Problem.** You are tasked with answering the following question: **\"Which of our sales agents are the most/least productive?**\n",
    "\n",
    "**Analytical Context.** The data is split across 3 tables: [`agent.xlsx`](data/agent.xlsx), [`call.xslx`](data/call.xlsx), and [`customer.xlsx`](data/customer.xlsx)\n",
    "\n",
    "The case is sequenced as follows: you will (1) learn the fundamentals of databases and SQL; (2) use SQL `SELECT` statements to identify potentially interesting customers; and (3) use SQL aggregation functions to compute summary statistics on your agents and identify the most/least productive ones."
   ]
  },
  {
   "cell_type": "markdown",
   "metadata": {
    "tags": [
     "2_min"
    ]
   },
   "source": [
    "## Initializing the SQLite database\n",
    "\n",
    "Run the following cell to load our database in to the notebook:\n",
    "\n",
    "**Note:** Don't worry about learning this code, it isn't SQL!"
   ]
  },
  {
   "cell_type": "code",
   "execution_count": null,
   "metadata": {},
   "outputs": [],
   "source": [
    "%%capture\n",
    "!pip install ipython-sql sqlalchemy\n",
    "import sqlalchemy\n",
    "sqlalchemy.create_engine(\"sqlite:///call_center_database2.db\")\n",
    "%load_ext sql\n",
    "%sql sqlite:///call_center_database2.db"
   ]
  },
  {
   "cell_type": "markdown",
   "metadata": {
    "tags": [
     "5_min"
    ]
   },
   "source": [
    "### Taking a look at the database\n",
    "\n",
    "The following is an [**entity-relationship digram (ERD)**](https://en.wikipedia.org/wiki/Entity%E2%80%93relationship_model) that shows our three tables, their components, and the connections between the tables. Diagrams like the one below are useful for conceptualizing how our database looks from a top-down perspective. As you can see the [primary keys](https://www.w3schools.com/sql/sql_primarykey.ASP) (`AgentID` and `CustomerID`) from the `agent` and `customer` table exist as [foreign keys](https://www.w3schools.com/sql/sql_foreignkey.ASP) on the `call` table. Note the call table also has it's own primary key, `CallID`:\n",
    "\n",
    "![ERDiagram](data/images/ERDiagram.png)\n",
    "\n",
    "It's important to know exactly how our tables interact with one another to perform more advanced queries. For instance, SQL uses these connections in order to properly execute `JOIN` operations. Use this diagram as a reference throughout the case to help visualize how our data is structured."
   ]
  },
  {
   "cell_type": "markdown",
   "metadata": {
    "tags": [
     "6_min"
    ]
   },
   "source": [
    "## Using aggregate functions\n",
    "\n",
    "In order to evaluate our agents' performance, we'll need the help of [**aggregate functions**](https://mode.com/sql-tutorial/sql-aggregate-functions/). An aggregate function allows you to perform a mathematical calculation on a set of values in your database, then returns a single value that summarizes those values in some way. The following are the most commonly-used SQL aggregate functions:\n",
    "\n",
    "1. **`COUNT()`** - counts rows in a specified column or table\n",
    "2. **`SUM()`** - calculates the sum of values\n",
    "3. **`AVG()`** - calculates the average of a set of values\n",
    "4. **`MIN()`** - finds the minimum value in a set of values\n",
    "5. **`MAX()`** - finds the maximum value in a set of values\n",
    "\n",
    "In order to get a general idea of how our agents are performing, let's get a tally of how many calls were made vs. the total products sold. We'll be using `COUNT()` to get the total number of rows in the calls table and `SUM()` to add up all the 1s in the `ProductSold` column:"
   ]
  },
  {
   "cell_type": "code",
   "execution_count": null,
   "metadata": {},
   "outputs": [],
   "source": [
    "%%sql\n",
    "\n",
    "SELECT COUNT(*) AS TotalCalls, SUM(ProductSold) AS TotalSales \n",
    "FROM call"
   ]
  },
  {
   "cell_type": "markdown",
   "metadata": {},
   "source": [
    "Note that we used `COUNT(*)` in this example. `COUNT(*)`, like `SELECT *`, can be read as \"Count all\" and counts every row in a table without needing to specify a column."
   ]
  },
  {
   "cell_type": "markdown",
   "metadata": {
    "tags": [
     "4_min"
    ]
   },
   "source": [
    "### Evaluating our agents individually\n",
    "\n",
    "It looks like our agents have a ~21% success rate as a group, but this doesn't tell us anything about their individual performance. To look at success rate on an agent-by-agent basis, we'll need a new keyword: **`GROUP BY`**. [GROUP BY](https://www.w3schools.com/sql/sql_groupby.asp) combines rows that have the same value in a particular column and is often used in conjunction with aggregate functions to perform multiple mathematical operations at once. The syntax is:\n",
    "~~~sql\n",
    "\n",
    "GROUP BY column_name\n",
    "\n",
    "~~~\n",
    "\n",
    "where the rows will be grouped by identical values within the column specified. For instance, using `GROUP BY Occupation` on the customer table will create a single row for each unique occupation. Any aggregate function will then be applied on the values in the rows that were grouped together for a particular occupation.\n",
    "\n",
    "`GROUP BY` is used after `SELECT` and any conditionals such as `WHERE` or `CASE...END`, but before `ORDER BY`."
   ]
  },
  {
   "cell_type": "markdown",
   "metadata": {
    "tags": [
     "6_min"
    ]
   },
   "source": [
    "### Exercise 1\n",
    "\n",
    "Write a query that outputs each agent's name, their total calls made, and their total successful sales. Order the new query by agent name in ascending order."
   ]
  },
  {
   "cell_type": "markdown",
   "metadata": {
    "tags": [
     "ans_st"
    ]
   },
   "source": [
    "**Answer.**"
   ]
  },
  {
   "cell_type": "markdown",
   "metadata": {},
   "source": [
    "-------"
   ]
  },
  {
   "cell_type": "markdown",
   "metadata": {
    "tags": [
     "7_min"
    ]
   },
   "source": [
    "We could now divide the number of successful sales by the total number of calls for each agent to determine each agent's success rate, but there's an easier way to get this information with the `AVG()` function. Since our `ProductSold` column is either a 0 or 1 taking the average will give us the percentage success rate for each of our agents. Let's try using `AVG()` on the `ProductSold` column and order this new column from largest to smallest (descending):"
   ]
  },
  {
   "cell_type": "code",
   "execution_count": null,
   "metadata": {},
   "outputs": [],
   "source": [
    "%%sql\n",
    "\n",
    "SELECT agent.name, COUNT(*) AS TotalCalls, AVG(call.ProductSold) AS SuccessPercent FROM call\n",
    "JOIN agent ON agent.AgentID = call.AgentID\n",
    "GROUP BY agent.name\n",
    "ORDER BY SuccessPercent DESC"
   ]
  },
  {
   "cell_type": "markdown",
   "metadata": {},
   "source": [
    "We can see that in terms of percentage of calls that end in a sale, our highest performing agent is Gloria Singh and our lowest performing agent is Angel Briggs. From our earlier query we know the success rate is ~21%. Most of our agents fall within ~1% of this average with Angel Briggs being an obvious outlier."
   ]
  },
  {
   "cell_type": "markdown",
   "metadata": {
    "tags": [
     "8_min"
    ]
   },
   "source": [
    "### Exercise 2\n",
    "\n",
    "Write a query to find the average, minimum, and maximum call duration for *each* of our agents. Include a conditional to ensure that only calls with durations greater than 0 are used."
   ]
  },
  {
   "cell_type": "markdown",
   "metadata": {
    "tags": [
     "ans_st"
    ]
   },
   "source": [
    "**Answer.**"
   ]
  },
  {
   "cell_type": "markdown",
   "metadata": {},
   "source": [
    "-------"
   ]
  },
  {
   "cell_type": "markdown",
   "metadata": {},
   "source": [
    "While our `SuccessPercent` metric is useful, it may not be entirely fair to judge our agents' performance entirely based on this. For instance, this metric doesn't consider whether a call was even answered or not, nor does it consider the age of the customer answering. "
   ]
  },
  {
   "cell_type": "markdown",
   "metadata": {
    "tags": [
     "10_min"
    ]
   },
   "source": [
    "### Exercise 3\n",
    "\n",
    "Modify the query in Exercise 2 to only consider calls which the customer answered, and where the customer's age is at least 18.\n",
    "\n",
    "**Hint:** You may want to use the **`AND`** and **`OR`** keywords."
   ]
  },
  {
   "cell_type": "markdown",
   "metadata": {
    "tags": [
     "ans_st"
    ]
   },
   "source": [
    "**Answer.**"
   ]
  },
  {
   "cell_type": "markdown",
   "metadata": {},
   "source": [
    "-------"
   ]
  },
  {
   "cell_type": "markdown",
   "metadata": {
    "tags": [
     "10_min"
    ]
   },
   "source": [
    "## The `IN` keyword\n",
    "\n",
    "Another useful tool for creating conditional statements (and a quick shorthand for the `OR` keyword) is the keyword **`IN`**. [IN](https://mode.com/sql-tutorial/sql-in-operator/) is used in the following way:\n",
    "\n",
    "~~~sql\n",
    "SELECT * FROM customer\n",
    "WHERE age IN (18,20,25,30,35)\n",
    "~~~\n",
    "\n",
    "This would select any records where the age was 18 ,20 ,25 ,30 *or* 35.\n",
    "\n",
    "`IN` can also use a `SELECT` statement as a parameter. For instance,\n",
    "\n",
    "~~~sql\n",
    "SELECT * FROM call\n",
    "WHERE CustomerID IN (SELECT CustomerID FROM customer)\n",
    "~~~\n",
    "\n",
    "This would first select all of the values in the `CustomerID` column from the `customer` table and then uses that as a parameter to select all of the rows from the `call` table where one of those `CustomerID` values is present. This is especially useful if you have a column with values from multiple tables and would like your query to only select for ones that come from a single table.\n",
    "\n",
    "In the case of our `call` table, it should only have `AgentID` values that match values from the `agent` table, but we can use the `IN` keyword to make sure. We ran a query at the start that showed we have 9,940 calls in our `call` table. Let's now write a query using `IN` to make sure all of the values in the `AgentID` column of the `call` table has a match in the `agent` table:"
   ]
  },
  {
   "cell_type": "code",
   "execution_count": null,
   "metadata": {},
   "outputs": [],
   "source": [
    "%%sql\n",
    "\n",
    "SELECT COUNT(*) FROM call\n",
    "WHERE AgentID IN (SELECT AgentID FROM agent)"
   ]
  },
  {
   "cell_type": "markdown",
   "metadata": {},
   "source": [
    "Notice this appears to be 1 short of the number we are looking for. Let's run a clean query of the table without any conditionals to confirm:"
   ]
  },
  {
   "cell_type": "code",
   "execution_count": null,
   "metadata": {},
   "outputs": [],
   "source": [
    "%%sql\n",
    "\n",
    "SELECT COUNT(*) FROM call"
   ]
  },
  {
   "cell_type": "markdown",
   "metadata": {},
   "source": [
    "This confirms there may be an issue with our database. A single row in the `call` table appears to not have a valid `AgentID`. If we sort the `AgentID` column by ascending values, we can see that our first row has a \"-1\" in the `AgentID` column. There is no corresponding \"-1\" on the `agent` table so this may be a mistake. \n",
    "\n",
    "In a real-life context, we would probably investigate further as to why this row exists and whether it needs to be deleted or modified. We would also want to re-assess the relational integrity amongst our tables. For now though, we can see the usefulness of the `IN` function for performing more advanced conditional statements."
   ]
  },
  {
   "cell_type": "markdown",
   "metadata": {
    "tags": [
     "15_min"
    ]
   },
   "source": [
    "### Exercise 4\n",
    "\n",
    "Based on our `SuccessPercent` metric, we currently have a list of our top 5 employees in terms of sales:\n",
    "\n",
    "\n",
    "| Agent         | AgentID   |\n",
    "| -----------   | ----------|\n",
    "| Todd Morrow   |     3     |\n",
    "| Gloria Singh  |     6     |\n",
    "| Dana Hardy    |     9     |\n",
    "| Jocelyn Parker|     1     |\n",
    "| Agent X       |     10    | \n",
    "\n",
    "Use what you've learned so far to write two queries, one for our top five agents and another for the bottom six agents. Each query should show the agent's name, the total number of calls they made, and their product sales conversion percentage. Filter each query to only include calls with customers who are 35 or older, and whose job contains the word \"Engineer\"."
   ]
  },
  {
   "cell_type": "markdown",
   "metadata": {
    "tags": [
     "ans_st"
    ]
   },
   "source": [
    "**Answer.**"
   ]
  },
  {
   "cell_type": "markdown",
   "metadata": {},
   "source": [
    "-------"
   ]
  },
  {
   "cell_type": "markdown",
   "metadata": {
    "tags": [
     "5_min"
    ]
   },
   "source": [
    "## Aliasing and the implicit `JOIN`\n",
    "\n",
    "We've learned before how to assign a new name to a column in a query using the `AS` keyword. This operation is known as an **alias** and is useful for more than just tidying up the result of your queries (read more about aliases [here](https://www.w3schools.com/sql/sql_alias.asp)). One functional use of an alias is in what's called an *implicit* `JOIN`, which is a join statement that doesn't use the `JOIN` keyword at all. Instead it uses aliases to identify which table to query the requested information from. The syntax for an implicit `JOIN` is as follows:\n",
    "\n",
    "~~~sql\n",
    "SELECT a.column_from_table_a, b.column_from_table_b\n",
    "FROM table_a AS a, table_b AS b\n",
    "WHERE a.shared_column = b.shared_column\n",
    "~~~\n",
    "\n",
    "As you can see, we defined the alias for each of our tables in the `FROM` statement, and then referenced the alias in our requested columns by using a `.` in the `SELECT` statement, referred to as **dot notation.** We still use our `WHERE` statement to say on what column our tables are to be joined.\n",
    "\n",
    "By putting both our requested tables in the `FROM` statement and then using our aliases, SQL can infer that we intend to `JOIN` these tables without needing to use the specific keyword."
   ]
  },
  {
   "cell_type": "markdown",
   "metadata": {
    "tags": [
     "5_min"
    ]
   },
   "source": [
    "### Example 1\n",
    "\n",
    "Use an implicit `JOIN` to find the average duration of calls for *each* `agent` in the `call` table."
   ]
  },
  {
   "cell_type": "markdown",
   "metadata": {},
   "source": [
    "**Answer.** Shown below:"
   ]
  },
  {
   "cell_type": "code",
   "execution_count": null,
   "metadata": {},
   "outputs": [],
   "source": [
    "%%sql\n",
    "\n",
    "SELECT a.name, AVG(b.Duration)\n",
    "FROM agent a, call b\n",
    "WHERE a.AgentID = b.AgentID\n",
    "GROUP BY a.name"
   ]
  },
  {
   "cell_type": "markdown",
   "metadata": {},
   "source": [
    "Note in this case we don't even need to use the `AS` keyword to create an alias. Using `AS` can make your code clearer for others to read, but is optional and the code will function the same either way."
   ]
  },
  {
   "cell_type": "markdown",
   "metadata": {
    "tags": [
     "10_min"
    ]
   },
   "source": [
    "## Subqueries\n",
    "\n",
    "In our discussion of the `IN` keyword, we saw how we could use a set of values *or* another query within a conditional statement. Using another query within a query is formally known as a **subquery**. A [subquery](https://www.w3resource.com/sql/subqueries/understanding-sql-subqueries.php) isn't just a useful time-saver; it also helps maintain the integrity of your queries by making your queries *relational* to other values in your tables.\n",
    "\n",
    "A subquery can be a part of your `SELECT` or `FROM` statements, or as a conditional in a `WHERE` statement. It must be enclosed in parentheses and can include most of the operators of a normal query, the most notable exception being `ORDER BY`. Below is an example of a subquery for our current dataset:\n",
    "\n",
    "~~~sql\n",
    "\n",
    "SELECT name, CustomerID, age FROM customer\n",
    "WHERE age >= (SELECT AVG(age) FROM customer)\n",
    "\n",
    "~~~\n",
    "\n",
    "A subquery first executes the inner query:"
   ]
  },
  {
   "cell_type": "code",
   "execution_count": null,
   "metadata": {},
   "outputs": [],
   "source": [
    "%%sql\n",
    "\n",
    "SELECT AVG(age) FROM customer"
   ]
  },
  {
   "cell_type": "markdown",
   "metadata": {},
   "source": [
    "It then uses this value to perform the outer query. We can plug in the number that results from the inner query into our outer query to see our result without explicitly using a subquery:"
   ]
  },
  {
   "cell_type": "code",
   "execution_count": null,
   "metadata": {},
   "outputs": [],
   "source": [
    "%%sql\n",
    "\n",
    "SELECT name, CustomerID, age FROM customer\n",
    "WHERE age >= 24.435\n",
    "LIMIT 15"
   ]
  },
  {
   "cell_type": "markdown",
   "metadata": {},
   "source": [
    "It turns out that at this moment in time, this will give the same result. However, using a constant in place of a dynamic subquery creates significant problems down the line. For example, if even a single value in the `age` column of our `customer` table changes, that constant will no longer be valid and our outer query will return an incorrect result. By using a subquery, we ensure that the entire query remains *relational* to our dataset and maintains integrity even when changes are made to the database."
   ]
  },
  {
   "cell_type": "markdown",
   "metadata": {
    "tags": [
     "10_min"
    ]
   },
   "source": [
    "### Exercise 5\n",
    "\n",
    "Use a subquery to get the name, call ID, and duration for every call where the duration is greater than the average call duration. Make sure to *exclude* calls with a `Duration` of 0 from the average calculation. Limit the results to the first 15 calls."
   ]
  },
  {
   "cell_type": "markdown",
   "metadata": {
    "tags": [
     "ans_st"
    ]
   },
   "source": [
    "**Answer.**"
   ]
  },
  {
   "cell_type": "markdown",
   "metadata": {},
   "source": [
    "-------"
   ]
  },
  {
   "cell_type": "markdown",
   "metadata": {
    "tags": [
     "2_min"
    ]
   },
   "source": [
    "## Conclusions & Takeaways\n",
    "\n",
    "In this case, you used aggregate functions to evaluate employee performance and learned how to perform more advanced queries using multiple joins and complex conditional logic. You developed a better understanding of the structure of a database and how the data amongst multiple tables connects and interacts. You also learned how to use aliases, implicit `JOIN`s, and subqueries."
   ]
  },
  {
   "cell_type": "markdown",
   "metadata": {},
   "source": [
    "## Appendix\n",
    "\n",
    "**Aggregate Functions**\n",
    "\n",
    "- `COUNT()` - counts rows in a specified column or table \n",
    "- `SUM()` - calculates the sum of values \n",
    "- `AVG()` - calculates the average of a set of values \n",
    "- `MIN()` - gets the minimum value in a set of values \n",
    "- `MAX()` - gets the maximum value in a set of values\n",
    "\n",
    "**New Functions**\n",
    "\n",
    "- `GROUP BY` - Combines rows with identical values, often used in combination with aggregate functions\n",
    "\n",
    "~~~sql\n",
    "SELECT SUM(value) FROM table\n",
    "GROUP BY value\n",
    "\n",
    "~~~\n",
    "\n",
    "- `WHERE ... IN` - Used as shorthand for multiple `OR` conditionals\n",
    "\n",
    "~~~sql\n",
    "WHERE column_name IN (value1, value2, ...)\n",
    "WHERE column_name IN (SELECT query)\n",
    "\n",
    "~~~\n",
    "\n",
    "- Alias - Created using the optional `AS` keyword, used in subqueries and implicit joins\n",
    "\n",
    "~~~sql\n",
    "\n",
    "SELECT a.column_from_table_a, b.column_from_table_b\n",
    "FROM table_a AS a, table_b AS b\n",
    "\n",
    "~~~\n",
    "\n",
    "- Implicit `JOIN` - A joy using alias' that doesn't require the `JOIN` keyword\n",
    "\n",
    "~~~sql\n",
    "\n",
    "SELECT a.column_from_table_a, b.column_from_table_b\n",
    "FROM table_a AS a, table_b AS b\n",
    "WHERE a.shared_column = b.shared_column\n",
    "\n",
    "~~~\n",
    "\n",
    "- Subquery - A query used within another query to helps maintain relational integrity of more complex queries\n",
    "\n",
    "~~~sql\n",
    "\n",
    "SELECT column FROM table\n",
    "WHERE (Select value FROM table)     \n",
    "\n",
    "~~~\n"
   ]
  }
 ],
 "metadata": {
  "c1_recart": "7.12.0-57c20131aabc1dc2a8c675852d80a7da"
 },
 "nbformat": 4,
 "nbformat_minor": 4
}
