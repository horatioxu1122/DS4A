{
 "cells": [
  {
   "cell_type": "markdown",
   "metadata": {
    "tags": [
     "50_min",
     "99_min"
    ]
   },
   "source": [
    "# How can we clearly communicate GDP trends using visualizations?"
   ]
  },
  {
   "cell_type": "markdown",
   "metadata": {
    "tags": [
     "2_min"
    ]
   },
   "source": [
    "## Goals\n",
    "\n",
    "By the end of this case, you will have:\n",
    "\n",
    "* Learned how to select an appropriate plot type to visualize specific kinds of data\n",
    "* Learned decision-making skills to set up and present data in a professional manner"
   ]
  },
  {
   "cell_type": "markdown",
   "metadata": {
    "tags": [
     "5_min"
    ]
   },
   "source": [
    "## Introduction\n",
    "\n",
    "**Business Context.** You are an employee for GoodEconomists, an [NGO](https://en.wikipedia.org/wiki/Non-governmental_organization) that campaigns for raising living standards globally. With limited financial resources, GoodEconomists does not have a large budget for outreach and marketing. Instead, they rely on publishing content with compelling stories and excellent visuals to have their voice heard. You have been asked to work on data presentation and graphs for their upcoming report on [GDP](https://en.wikipedia.org/wiki/Gross_domestic_product) and its implications. \n",
    "\n",
    "**Business Problem.** Your manager has asked you to answer the following question: **\"How can we clearly communicate the strong correlations that GDP has to other factors?\"**\n",
    "\n",
    "**Analytical Context.** The relevant data is a pair of public CSV files containing information on GDP for different countries. The first one is on GDP and life expectancy and is called [data/gdp_data.csv](data/gdp_data.csv). We also have a dataset [data/gdp_data_years.csv](data/gdp_data_years.csv). It is similar, but formatted differently. Each column is a year so we can see GDP trends over time. It does not include population size and life expectancy data."
   ]
  },
  {
   "cell_type": "markdown",
   "metadata": {
    "tags": [
     "5_min"
    ]
   },
   "source": [
    "## Taking a look at the data\n",
    "\n",
    "Here the CSV files have been compiled into tables with Excel to increase readability. Let's take a look at our tables to get an idea of what our data looks like. \n",
    "\n",
    "**Note:** These tables contain a lot of records so only a summary portion will be shown below."
   ]
  },
  {
   "cell_type": "markdown",
   "metadata": {},
   "source": [
    "First we have `gdp_data.csv`:\n",
    "\n",
    "![GDPData](data/images/case_4.5_gdp_data.png)\n",
    "\n",
    "We can extract quite a lot of information from this table:\n",
    "\n",
    "1. **Country:** The name of the country \n",
    "2. **Continent:** The name of the continent \n",
    "3. **lifeExp:** The average life span of a person in that country in years \n",
    "4. **pop**: The population of the country \n",
    "5. **gdpPercap:** The GDP per capita, or the average economic output of each person in the country "
   ]
  },
  {
   "cell_type": "markdown",
   "metadata": {},
   "source": [
    "We also have `gdp_data_years.csv`:\n",
    "\n",
    "![GDPDataYears](data/images/case_4.5_gdp_data_years.png)\n",
    "\n",
    "We aren't seeing all the columns here because the table is too large but we can sum up the information from this table as follows:\n",
    "\n",
    "* **Country Name:** The name of the country \n",
    "* **Country Code:** The three-letter code for the country \n",
    "* **1960 - 2019:** The GDP value in USD for each year from 1960 through 2019 (**Note:** Only 1960-1963 is shown here, the rest of the table is the same but continues through 2019.)"
   ]
  },
  {
   "cell_type": "markdown",
   "metadata": {
    "tags": [
     "10_min"
    ]
   },
   "source": [
    "## Data & chart types\n",
    "\n",
    "Nearly any dataset that you want to present or visualize will consist of variables that can be thought of in different ways. Most variables can be thought of either as **categorical** and **numerical** variables. For example, in our dataset the variable `continent` is a categorical variable, because we can categorize countries by which continent they belong to, yet this categorization isn't inherently comparable - we don't know which order the continents go in (though we could invent a way, such as by total population or surface area).\n",
    "\n",
    "We also have the variable `population`, which is numerical. We can clearly order countries by population.\n",
    "\n",
    "While there are hundreds of different charts and variations of charts, the main charts we will focus on are:\n",
    "\n",
    "* [Table](https://en.wikipedia.org/wiki/Table_(information))\n",
    "* [Bar chart](https://en.wikipedia.org/wiki/Bar_chart)\n",
    "* [Pie chart](https://en.wikipedia.org/wiki/Pie_chart)\n",
    "* [Scatter plot](https://en.wikipedia.org/wiki/Scatter_plot)\n",
    "* [Line graph](https://en.wikipedia.org/wiki/Line_graph)\n",
    "* [Box plot](https://en.wikipedia.org/wiki/Box_plot)\n",
    "\n",
    "You should already be familiar with these from previous cases. Choosing which of these is most appropriate usually comes down to both what kind of data you have (categorical or numerical or both) and what kind of message you are trying to communicate. For example, you might want to show how your data changes over time, how it is distributed, or how two groups compare to each other. It's very common to see others misuse chart types, or present data badly even within a properly chosen chart."
   ]
  },
  {
   "cell_type": "markdown",
   "metadata": {
    "tags": [
     "8_min"
    ]
   },
   "source": [
    "## GDP, population, and life expectancy\n",
    "\n",
    "Let's try visualizing the relative total population of each continent (by summing the population of each country in that continent) using tables, bar charts, and pie charts:"
   ]
  },
  {
   "cell_type": "markdown",
   "metadata": {},
   "source": [
    "Table:\n",
    "\n",
    "<table border=\"1\" class=\"dataframe\">  <thead>    <tr style=\"text-align: right;\">      <th>continent</th>      <th>Total Population</th>    </tr>  </thead>  <tbody>    <tr>      <td>Asia</td>      <td>3,811,953,827</td>    </tr>    <tr>      <td>Africa</td>      <td>929,539,692</td>    </tr>    <tr>      <td>Americas</td>      <td>898,871,184</td>    </tr>    <tr>      <td>Europe</td>      <td>586,098,529</td>    </tr>    <tr>      <td>Oceania</td>      <td>24,549,947</td>    </tr>  </tbody></table>\n"
   ]
  },
  {
   "cell_type": "markdown",
   "metadata": {},
   "source": [
    "Bar Chart:\n",
    "\n",
    "<img src=\"data/images/PopBarGraph.png\" width=400>"
   ]
  },
  {
   "cell_type": "markdown",
   "metadata": {},
   "source": [
    "Pie Chart:\n",
    "\n",
    "<img src=\"data/images/PopPieGraph.png\" width=400>"
   ]
  },
  {
   "cell_type": "markdown",
   "metadata": {},
   "source": [
    "When building visualizations, there are some general guidelines to keep in mind to make the images as meaningful as possible for your readers:\n",
    "\n",
    "* The title of each plot should explain the *message* of the visualization, not just a description of the data. So instead of saying \"Population by Continent\", try to find the story behind the data and use that as the title of each graphic.\n",
    "* Use labels and legends as appropriate"
   ]
  },
  {
   "cell_type": "markdown",
   "metadata": {
    "tags": [
     "12_min"
    ]
   },
   "source": [
    "### Exercise 1\n",
    "\n",
    "Explain what the advantages and disadvantages are of each of the above three approaches to visualizing this data."
   ]
  },
  {
   "cell_type": "markdown",
   "metadata": {
    "tags": [
     "ans_st"
    ]
   },
   "source": [
    "**Answer.**"
   ]
  },
  {
   "cell_type": "markdown",
   "metadata": {},
   "source": [
    "-------"
   ]
  },
  {
   "cell_type": "markdown",
   "metadata": {
    "tags": [
     "3_min"
    ]
   },
   "source": [
    "Now that we've taken a quick look at the dataset and population by continent, let's start looking at the data we actually came for: the GDP of each country. GDP affects life expectancy. Your hypothesis is that people in richer countries live longer. Let's make a scatter plot of GDP per capita vs. life expectancy:"
   ]
  },
  {
   "cell_type": "markdown",
   "metadata": {},
   "source": [
    "<img src=\"data/images/GDPLifeScatterWorld.png\" width=500>\n",
    "\n",
    "We can see from this plot that our hypothesis is probably correct and so we title the graph accordingly. We use GDP per capita (USD) as our $x$-axis and Life expectancy (years) as our $y$-axis because we want to see the effect GDP has on life expectancy and scatter plots are usually read in this order. If we calculate the correlation we find that global correlation between GPD and life expectancy is .68, a fairly strong correlation."
   ]
  },
  {
   "cell_type": "markdown",
   "metadata": {
    "tags": [
     "2_min"
    ]
   },
   "source": [
    "### Question 1\n",
    "\n",
    "Why is a scatter plot appropriate for this purpose?"
   ]
  },
  {
   "cell_type": "markdown",
   "metadata": {},
   "source": [
    "A scatter plot is appropriate for this task because it provides a useful visualization of the relationship between exactly two variables. "
   ]
  },
  {
   "cell_type": "markdown",
   "metadata": {
    "tags": [
     "6_min"
    ]
   },
   "source": [
    "### Exercise 2\n",
    "\n",
    "#### 2.1\n",
    "\n",
    "The above information is useful for showing there is a fairly strong correlation between GDP and life expectancy worldwide, but we can see from the scatter plot that there are some unusual groupings especially towards the left side of the plot where GDP is low. What would be a good way to improve our scatter plot to show information more specific to each region of the world?"
   ]
  },
  {
   "cell_type": "markdown",
   "metadata": {
    "tags": [
     "ans_st"
    ]
   },
   "source": [
    "**Answer.**"
   ]
  },
  {
   "cell_type": "markdown",
   "metadata": {},
   "source": [
    "-------"
   ]
  },
  {
   "cell_type": "markdown",
   "metadata": {
    "tags": [
     "3_min"
    ]
   },
   "source": [
    "#### 2.2\n",
    "\n",
    "What does the clustering on the left side of the plot represent? What do you conclude from it?"
   ]
  },
  {
   "cell_type": "markdown",
   "metadata": {
    "tags": [
     "ans_st"
    ]
   },
   "source": [
    "**Answer.**"
   ]
  },
  {
   "cell_type": "markdown",
   "metadata": {},
   "source": [
    "-------"
   ]
  },
  {
   "cell_type": "markdown",
   "metadata": {
    "tags": [
     "3_min"
    ]
   },
   "source": [
    "#### 2.3\n",
    "\n",
    "Let's take a look at the correlation broken down by region:\n",
    "\n",
    "<table border=\"1\" class=\"dataframe\">  <thead>    <tr style=\"text-align: right;\">      <th>Continent</th>      <th>GDP_LifeExp</th>    </tr>  </thead>  <tbody>    <tr>      <td>Americas</td>      <td>0.591</td>    </tr>    <tr>      <td>Africa</td>      <td>0.385</td>    </tr>    <tr>      <td>Asia</td>      <td>0.689</td>    </tr>    <tr>      <td>Oceania</td>      <td>1.0</td>    </tr>    <tr>      <td>Europe</td>      <td>0.85</td>    </tr>  </tbody></table>\n",
    "\n",
    "\n",
    "How does this affect our original hypothesis?"
   ]
  },
  {
   "cell_type": "markdown",
   "metadata": {
    "tags": [
     "ans_st"
    ]
   },
   "source": [
    "**Answer.**"
   ]
  },
  {
   "cell_type": "markdown",
   "metadata": {},
   "source": [
    "-------"
   ]
  },
  {
   "cell_type": "markdown",
   "metadata": {
    "tags": [
     "1_min"
    ]
   },
   "source": [
    "## GDP trends over time\n",
    "\n",
    "So far we've looked at data for a single point in time, and have used bar charts and scatter plots to present it. Our second dataset includes data collected from the 1960s to the 2010s, so we will naturally turn towards line graphs."
   ]
  },
  {
   "cell_type": "markdown",
   "metadata": {
    "tags": [
     "8_min"
    ]
   },
   "source": [
    "### Exercise 3\n",
    "\n",
    "You remember that GDP has been growing over time, but you wonder by how much.\n",
    "\n",
    "1. Why is a line plot appropriate for this purpose? \n",
    "2. What labels would you use to best represent the information on your line graph? \n",
    "3. What is one problem you might encounter with just summing up all the country-level GDPs to get the world GDP?"
   ]
  },
  {
   "cell_type": "markdown",
   "metadata": {
    "tags": [
     "ans_st"
    ]
   },
   "source": [
    "**Answer.**"
   ]
  },
  {
   "cell_type": "markdown",
   "metadata": {},
   "source": [
    "-------"
   ]
  },
  {
   "cell_type": "markdown",
   "metadata": {
    "tags": [
     "7_min"
    ]
   },
   "source": [
    "### Exercise 4\n",
    "\n",
    "Let's pick some countries of interest and create a new line graph that just focuses on those. We'll use the following countries: Brazil, China, India, Japan, and the United States:\n",
    "\n",
    "<img src=\"data/images/GDPBig5Line.png\" width=500>\n",
    "\n",
    "What trends can we gather from this graph? What issues are there with how this data is being presented?"
   ]
  },
  {
   "cell_type": "markdown",
   "metadata": {
    "tags": [
     "ans_st"
    ]
   },
   "source": [
    "**Answer.**"
   ]
  },
  {
   "cell_type": "markdown",
   "metadata": {},
   "source": [
    "-------"
   ]
  },
  {
   "cell_type": "markdown",
   "metadata": {
    "tags": [
     "4_min"
    ]
   },
   "source": [
    "We were able to get a lot more information out of our line graph once we separated it in to multiple countries, but what if we wanted to include more than 5 countries in our visualization?\n",
    "\n",
    "In this case, the line graph runs into the issue of becoming very cluttered and its ability to present information coherently is reduced. A useful tool for looking at the aggregate of of our dataset in a clearer fashion is the box plot. Let's make a box plot of GDP over time for the top 20 countries in our dataset:\n",
    "\n",
    "<img src=\"data/images/GDPComplexBar.png\" width=500>\n",
    "\n",
    "We can see some pretty significant outliers at the top of the graph. This is likely due to some of the largest GDP nations like the United States and China."
   ]
  },
  {
   "cell_type": "markdown",
   "metadata": {
    "tags": [
     "10_min"
    ]
   },
   "source": [
    "### Exercise 5\n",
    "\n",
    "What changes can be made to the box plot to better represent our data? What labels may need to be changed?"
   ]
  },
  {
   "cell_type": "markdown",
   "metadata": {
    "tags": [
     "ans_st"
    ]
   },
   "source": [
    "**Answer.**"
   ]
  },
  {
   "cell_type": "markdown",
   "metadata": {},
   "source": [
    "-------"
   ]
  },
  {
   "cell_type": "markdown",
   "metadata": {
    "tags": [
     "3_min"
    ]
   },
   "source": [
    "## Conclusions\n",
    "\n",
    "GDP is a metric that has become controversial because it is a very crude way of measuring economic activity. However, it can provide an interesting lens to look at specific countries and how they relate to each other. After looking at correlations like \"people in richer countries live longer\" it's tempting to make a causation link (e.g. \"if poorer countries raise their GDP, their citizens will live longer\"), but correlation is not the same as causation and we saw that in certain regions of the world even correlation was tenuous.\n",
    "\n",
    "We saw that the USA and China dwarf most other countries in terms of GDP, and that Japan's once strong GDP growth has leveled off in the last few decades."
   ]
  },
  {
   "cell_type": "markdown",
   "metadata": {
    "tags": [
     "7_min"
    ]
   },
   "source": [
    "## Takeaways\n",
    "\n",
    "To present data well, you need to constantly keep two things in mind:\n",
    "\n",
    "1. Choose the correct way to visualize the data\n",
    "2. Make the story easy to understand by being careful with the presentation details such as titles and labels\n",
    "\n",
    "In this case, you saw that:\n",
    "\n",
    "* Bar charts are good for basic analysis, showing how categorical variables relate to numerical variables. In very specific circumstances, pie charts can also be used for this when you are interested in relative vs. absolute sizes\n",
    "* Scatterplots are used to show how to numerical variables relate to each other, and are good for looking at correlations\n",
    "* Line charts are almost always appropriate to show how continuous data changes over time\n",
    "* Box plots are a great tool if you need to show more than a basic summary (such as an average), but you don't want to plot the full distribution of each variable (which can be cumbersome and overly detailed)\n",
    "\n",
    "You also saw how important it is to get all of the details right when presenting data. It's very common for people to use wrong or misleading labels, or to use titles that don't add anything to the visualization. Always be careful that you are using the correct units, and clearly labeling what these are, while using the title to summarize the message behind the data.\n",
    "\n",
    "### Atribution\n",
    "\"Gapminder dataset\", The Gapminder Foundation (via the Vertica package), Creative Commons Attribution 3.0, https://github.com/vertica/VerticaPy/blob/master/verticapy/data/gapminder.csv"
   ]
  }
 ],
 "metadata": {
  "language_info": {
   "name": "python"
  }
 },
 "nbformat": 4,
 "nbformat_minor": 4
}
