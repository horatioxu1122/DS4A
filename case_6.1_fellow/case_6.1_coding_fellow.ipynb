{
 "cells": [
  {
   "cell_type": "markdown",
   "id": "cf2c665d",
   "metadata": {
    "tags": [
     "27_min",
     "45_min"
    ]
   },
   "source": [
    "# What factors are driving pay discrimination between men and women in your organization?"
   ]
  },
  {
   "cell_type": "markdown",
   "id": "1c4ac042",
   "metadata": {},
   "source": [
    "In this case you will learn how to run linear regressions in Python, using the `statsmodels` library."
   ]
  },
  {
   "cell_type": "code",
   "execution_count": null,
   "id": "0d8dc35a",
   "metadata": {},
   "outputs": [],
   "source": [
    "import pandas as pd\n",
    "import statsmodels.formula.api as sm"
   ]
  },
  {
   "cell_type": "markdown",
   "id": "962aff7b",
   "metadata": {
    "tags": [
     "2_min"
    ]
   },
   "source": [
    "## Loading our data\n",
    "\n",
    "As always, let's start by reading in our dataset and inspecting a few rows:"
   ]
  },
  {
   "cell_type": "code",
   "execution_count": null,
   "id": "1be15aef",
   "metadata": {},
   "outputs": [],
   "source": [
    "df = pd.read_csv('data/company_dataset.csv')"
   ]
  },
  {
   "cell_type": "code",
   "execution_count": null,
   "id": "4a5e2f3f",
   "metadata": {},
   "outputs": [],
   "source": [
    "df.head()"
   ]
  },
  {
   "cell_type": "markdown",
   "id": "30f8c155",
   "metadata": {
    "tags": [
     "20_min"
    ]
   },
   "source": [
    "## Simple linear regressions\n",
    "\n",
    "During lecture we ran this model, which we will now replicate using code:\n",
    "\n",
    "$$ PAY{\\_}YEARLY = \\beta_0 + \\beta_1 AGE{\\_}YEARS + \\varepsilon $$\n",
    "\n",
    "The first step is to transform the mathematical formula into a `statsmodels` formula. The syntax is as follows:\n",
    "\n",
    "~~~plain\n",
    "output_variable ~ input_variable\n",
    "~~~\n",
    "\n",
    "Thus, we will define our formula as:"
   ]
  },
  {
   "cell_type": "code",
   "execution_count": null,
   "id": "8298223b",
   "metadata": {},
   "outputs": [],
   "source": [
    "formula1 = 'pay_yearly ~ age_years'\n",
    "formula1"
   ]
  },
  {
   "cell_type": "markdown",
   "id": "abf891db",
   "metadata": {},
   "source": [
    "We used only the column names. There is no need to add the name of the DataFrame (`df`) just yet.\n",
    "\n",
    "After this, we create a `statsmodels` model with the [**`ols()`**](https://www.statsmodels.org/stable/generated/statsmodels.formula.api.ols.html) function. OLS stands for \"Ordinary Least Squares\", which is the name of the process that minimizes the sum of squared residuals (which we saw during lecture). It is here where we tell the library which DataFrame the variables belong to:"
   ]
  },
  {
   "cell_type": "code",
   "execution_count": null,
   "id": "aece910f",
   "metadata": {},
   "outputs": [],
   "source": [
    "model1 = sm.ols(formula = formula1, data = df)"
   ]
  },
  {
   "cell_type": "markdown",
   "id": "cc738943",
   "metadata": {},
   "source": [
    "Here we passed two arguments - the formula (in our case `formula = formula1`) and the DataFrame (`data = df`).\n",
    "\n",
    "The model does not do anything yet. It is only a computer representation of our model - it hasn't been fed any data yet, and therefore cannot produce coefficients or any other meaningful outputs. To actually fit the model to the data, we must call the `.fit()` method like this:"
   ]
  },
  {
   "cell_type": "code",
   "execution_count": null,
   "id": "6c07152f",
   "metadata": {},
   "outputs": [],
   "source": [
    "fitted1 = model1.fit()"
   ]
  },
  {
   "cell_type": "markdown",
   "id": "015b4d05",
   "metadata": {},
   "source": [
    "However, if you now simply call the `fitted1` variable or try to print it, you won't see any meaningful output:"
   ]
  },
  {
   "cell_type": "code",
   "execution_count": null,
   "id": "02201a4f",
   "metadata": {},
   "outputs": [],
   "source": [
    "fitted1"
   ]
  },
  {
   "cell_type": "code",
   "execution_count": null,
   "id": "1de6ccd0",
   "metadata": {},
   "outputs": [],
   "source": [
    "print(fitted1)"
   ]
  },
  {
   "cell_type": "markdown",
   "id": "2588b5de",
   "metadata": {},
   "source": [
    "To see the actual regression output, you have to call the [**`.summary()`**](https://medium.com/swlh/interpreting-linear-regression-through-statsmodels-summary-4796d359035a]) method and print it:"
   ]
  },
  {
   "cell_type": "code",
   "execution_count": null,
   "id": "135319c3",
   "metadata": {},
   "outputs": [],
   "source": [
    "print(fitted1.summary())"
   ]
  },
  {
   "cell_type": "markdown",
   "id": "b795ec7c",
   "metadata": {},
   "source": [
    "Now you can see your regression output! To summarize:\n",
    "\n",
    "1. You first define a `statsmodels` formula (`formula1 = 'pay_yearly ~ age_years'`)\n",
    "2. Then you pass the formula to `ols()` (`model1 = sm.ols(formula = formula1, data = df)`)\n",
    "3. After that, you fit the model with `.fit()` (`fitted1 = model1.fit()`)\n",
    "4. Finally, you print the output with the help of the `.summary()` method (`print(fitted1.summary())`)\n",
    "\n",
    "In just one cell:"
   ]
  },
  {
   "cell_type": "code",
   "execution_count": null,
   "id": "afb31c70",
   "metadata": {},
   "outputs": [],
   "source": [
    "formula1 = 'pay_yearly ~ age_years'\n",
    "model1 = sm.ols(formula = formula1, data = df)\n",
    "fitted1 = model1.fit()\n",
    "print(fitted1.summary())"
   ]
  },
  {
   "cell_type": "markdown",
   "id": "68218e82",
   "metadata": {},
   "source": [
    "You can also retrieve only a subset of the output:\n",
    "\n",
    "* `fitted1.params` gives you the coefficients\n",
    "* `fitted1.pvalues` gives you the $p$-values\n",
    "* `fitted1.rsquared` gives you the $R^2$"
   ]
  },
  {
   "cell_type": "code",
   "execution_count": null,
   "id": "7d7148e0",
   "metadata": {},
   "outputs": [],
   "source": [
    "fitted1.params"
   ]
  },
  {
   "cell_type": "code",
   "execution_count": null,
   "id": "051f4c16",
   "metadata": {},
   "outputs": [],
   "source": [
    "fitted1.pvalues"
   ]
  },
  {
   "cell_type": "code",
   "execution_count": null,
   "id": "7c6dddb1",
   "metadata": {},
   "outputs": [],
   "source": [
    "fitted1.rsquared"
   ]
  },
  {
   "cell_type": "markdown",
   "id": "f13816c4",
   "metadata": {},
   "source": [
    "For a full list of the attributes that you can retrieve, run `dir(fitted1)` (the [**`dir()`**](https://www.geeksforgeeks.org/python-dir-function) function in Python lets you inspect all the attributes of an object)."
   ]
  },
  {
   "cell_type": "markdown",
   "id": "02f6855a",
   "metadata": {
    "tags": [
     "3_min"
    ]
   },
   "source": [
    "## Multiple linear regression\n",
    "\n",
    "The steps to run these regressions in `statsmodels` are exactly the same as in the simple regression case, with a small change to the formula.\n",
    "\n",
    "This is one of the models we fitted during lecture:\n",
    "\n",
    "$$ PAY{\\_}YEARLY = \\beta_0 + \\beta_1 AGE{\\_}YEARS + \\beta_2 MALE{\\_}FEMALE  + \\varepsilon $$\n",
    "\n",
    "The corresponding `statsmodels` formula would be:"
   ]
  },
  {
   "cell_type": "code",
   "execution_count": null,
   "id": "0cf19869",
   "metadata": {},
   "outputs": [],
   "source": [
    "formula2 = 'pay_yearly ~ age_years + male_female'"
   ]
  },
  {
   "cell_type": "markdown",
   "id": "dc8b2ac1",
   "metadata": {},
   "source": [
    "That is, whenever you need to include a new input variable, you attach it to the formula using the `+` symbol. If you need to have more than two input variables, you can just keep appending `+` symbols:\n",
    "\n",
    "~~~plain\n",
    "output_variable ~ input_variable_1 + input_variable_2 + input_variable_3 + ...\n",
    "~~~"
   ]
  },
  {
   "cell_type": "markdown",
   "id": "f4f14936",
   "metadata": {
    "tags": [
     "5_min"
    ]
   },
   "source": [
    "### Exercise 1\n",
    "\n",
    "#### 1.1\n",
    "\n",
    "Using `formula2` above, create the variables `model2` and `fitted2` and print the output of your linear model."
   ]
  },
  {
   "cell_type": "markdown",
   "id": "8206dd77",
   "metadata": {
    "tags": [
     "ans_st"
    ]
   },
   "source": [
    "**Answer.**"
   ]
  },
  {
   "cell_type": "markdown",
   "metadata": {},
   "source": [
    "-------"
   ]
  },
  {
   "cell_type": "markdown",
   "id": "96bce3b4",
   "metadata": {
    "tags": [
     "2_min"
    ]
   },
   "source": [
    "#### 1.2\n",
    "\n",
    "What is the $R^2$? (access it directly using the fitted model's attributes)."
   ]
  },
  {
   "cell_type": "markdown",
   "id": "780ca375",
   "metadata": {
    "tags": [
     "ans_st"
    ]
   },
   "source": [
    "**Answer.**"
   ]
  },
  {
   "cell_type": "markdown",
   "metadata": {},
   "source": [
    "-------"
   ]
  },
  {
   "cell_type": "markdown",
   "id": "f60636da",
   "metadata": {
    "tags": [
     "6_min"
    ]
   },
   "source": [
    "### Exercise 2\n",
    "\n",
    "Code the following model and print its output (call it `model3`):\n",
    "\n",
    "$$\n",
    "PAY{\\_}YEARLY = \\beta_0 + \\beta_1 AGE{\\_}YEARS + \\beta_2 {MALE{\\_}FEMALE} + \\beta_3 EDUCATION + \\varepsilon\n",
    "$$"
   ]
  },
  {
   "cell_type": "markdown",
   "id": "f9d99c5d",
   "metadata": {
    "tags": [
     "ans_st"
    ]
   },
   "source": [
    "**Answer.**"
   ]
  },
  {
   "cell_type": "markdown",
   "metadata": {},
   "source": [
    "-------"
   ]
  },
  {
   "cell_type": "markdown",
   "id": "63c33487",
   "metadata": {
    "tags": [
     "2_min"
    ]
   },
   "source": [
    "Adding categorical variables to the model is very simple. You do not need to do anything special - you just include them as usual:"
   ]
  },
  {
   "cell_type": "code",
   "execution_count": null,
   "id": "3abb44a8",
   "metadata": {},
   "outputs": [],
   "source": [
    "formula4 = 'pay_yearly ~ job_title'\n",
    "model4 = sm.ols(formula = formula4, data = df)\n",
    "fitted4 = model4.fit()\n",
    "print(fitted4.summary())"
   ]
  },
  {
   "cell_type": "markdown",
   "id": "95d5b4b3",
   "metadata": {
    "tags": [
     "5_min"
    ]
   },
   "source": [
    "### Exercise 3\n",
    "\n",
    "Code the following model and print only the *coefficients* (call it `model5`):\n",
    "\n",
    "$$\n",
    "PAY{\\_}YEARLY = \\beta_0 + \\beta_1 AGE{\\_}YEARS + \\beta_2 {MALE{\\_}FEMALE} + \\beta_3 EDUCATION + \\beta_4 JOB{\\_}TITLE + \\varepsilon\n",
    "$$"
   ]
  },
  {
   "cell_type": "markdown",
   "id": "099fcb93",
   "metadata": {
    "tags": [
     "ans_st"
    ]
   },
   "source": [
    "**Answer.**"
   ]
  },
  {
   "cell_type": "markdown",
   "metadata": {},
   "source": [
    "-------"
   ]
  }
 ],
 "metadata": {
  "c1_recart": "6.10.0-57c20131aabc1dc2a8c675852d80a7da"
 },
 "nbformat": 4,
 "nbformat_minor": 5
}
