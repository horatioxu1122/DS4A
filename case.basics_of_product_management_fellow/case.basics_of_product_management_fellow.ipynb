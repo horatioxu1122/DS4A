{
 "cells": [
  {
   "cell_type": "markdown",
   "metadata": {},
   "source": [
    "# What features should I proceed with to improve a hospitality product?"
   ]
  },
  {
   "cell_type": "markdown",
   "metadata": {
    "tags": [
     "2_min"
    ]
   },
   "source": [
    "## Goals\n",
    "\n",
    "By the end of this case, you should be able to:\n",
    "\n",
    "1. Conduct basic market research on a product, including market trends, competitors, and pricing options\n",
    "2. Qualitatively understand how a product's market trends and user experience could determine the success or failure of particular features\n",
    "3. Provide insight-driven conclusions to inform product strategy and success"
   ]
  },
  {
   "cell_type": "markdown",
   "metadata": {
    "tags": [
     "4_min"
    ]
   },
   "source": [
    "## Introduction\n",
    "\n",
    "**Business Context.** You are a product manager for Airbnb. The travel industry has scaled by offering home sharing accommodations in crowded hotel districts near frequently-visited landmarks and attractions. Airbnb has enabled home sharing at a global scale and created a new category of travel. Instead of traveling like tourists and feeling like outsiders, guests can stay in neighborhoods where people live, have authentic experiences, live like locals, and spend time with locals in approximately 100,000 cities around the world.\n",
    "\n",
    "**Business Problem.** The executives would like to know **where and how the company should invest more marketing efforts to attract more hosts and guests**, taking into account the effects of COVID-19 on bookings across 10 markets and the major differences among those markets.\n",
    "\n",
    "**Analytical Context.** We will use the publicly available and well-maintained dataset created by the Inside Airbnb advocacy group, which you can see [here](http://insideairbnb.com/get-the-data.html). We will be looking at the data up to Q1 2021 for Bangkok, Cape Town, Mexico City, Istanbul, Hong Kong, New York City, Paris, Rio de Janeiro, Sydney and Rome."
   ]
  },
  {
   "cell_type": "markdown",
   "metadata": {
    "tags": [
     "5_min"
    ]
   },
   "source": [
    "## What is Product Management?\n",
    "\n",
    "**Product Management** is a rapidly-growing discipline and is essential for any company that provides out-of-the-box solutions for its customers. (This is in contrast to companies that provide customized solutions, although such companies still reap considerable benefits from product management best practices.) At such companies, **product managers (PMs)** are responsible for the defining the business strategy and feature definition for a product (or subcomponent of a product). The role may also include marketing, forecasting, and profit and loss (P&L) responsibilities. Product managers work closely with the Sales, Marketing, Design, Data Science, and Engineering departments (to name a few) in order to deliver the best possible product. Below is a diagram that shows how product management intersects with a few of the aforementioned departments:\n",
    "\n",
    "<img src=\"data/images/PMDSRoles.png\" width=\"800\"/>\n",
    "\n",
    "As a PM for Airbnb, you will need to acquire a solid understanding of the post-COVID hospitality market and determine how changes in user behavior could affect the overall product vision."
   ]
  },
  {
   "cell_type": "markdown",
   "metadata": {
    "tags": [
     "2_min"
    ]
   },
   "source": [
    "## Understanding the market landscape\n",
    "\n",
    "The goal of the product is to provide value that our customers are willing to pay for. In order to do this though, we first need to *understand the domain*, which in our case is the market in which Airbnb's products operate. This should be the first thing that any competent PM (and really, any person that works with broadly-defined problems) ought to do."
   ]
  },
  {
   "cell_type": "markdown",
   "metadata": {
    "tags": [
     "20_min"
    ]
   },
   "source": [
    "### Exercise 1\n",
    "\n",
    "At the start of COVID-10, Airbnb lost revenue from [cancelled/refunded bookings](https://www.airbnb.com/help/article/2701/extenuating-circumstances-policy-and-the-coronavirus-covid19), so it launched Online Experiences. This allowed hosts to create experiences from the comfort of their own home or on vacation and add an additional revenue stream. As we come out the other side of COVID-19, we want to reflect on the pricing on our flagship product (Stays) and consider a fee increase there due to the losses during COVID-19.\n",
    "\n",
    "Conduct some online research for any competitive features or products, then select two of Airbnb’s competitors and compare their fee structures to Airbnb's structure. Are there any aspects where Airbnb can become more competitive on pricing? Come up with 2-3 recommendations."
   ]
  },
  {
   "cell_type": "markdown",
   "metadata": {
    "tags": [
     "ans_st"
    ]
   },
   "source": [
    "**Answer.**"
   ]
  },
  {
   "cell_type": "markdown",
   "metadata": {},
   "source": [
    "-------"
   ]
  },
  {
   "cell_type": "markdown",
   "metadata": {
    "tags": [
     "15_min"
    ]
   },
   "source": [
    "### Exercise 2\n",
    "\n",
    "Based on information from our Marketing and Operations teams, Airbnb derives the largest share of its revenue from Stays. We [lost 5% of our hosts](https://www.phocuswire.com/how-the-pandemic-has-impacted-airbnb-supply?ctxp=) during COVID-19 but travel restrictions will soon be lifted as countries open up, hopefully presenting an opportunity to re-increase the number of hosts on the platform.\n",
    "\n",
    "We currently offer [superhosts](https://www.airbnb.com/d/superhost) a \\\\$100 coupon for every year they maintain their status and a 20\\% referral bonus, yet we know that many of our competitors are [poaching hosts from our platform](https://www.phocuswire.com/vrbo-targets-superhosts-through-new-onboarding-program), especially on the lower end of the pricing scale.\n",
    "\n",
    "Conduct more market research to understand competitors' referral programs for hosts and other incentives they offer. If it is helpful, use the competitors you researched earlier. What could we potentially do to gain more hosts and retain our current hosts?"
   ]
  },
  {
   "cell_type": "markdown",
   "metadata": {
    "tags": [
     "ans_st"
    ]
   },
   "source": [
    "**Answer.**"
   ]
  },
  {
   "cell_type": "markdown",
   "metadata": {},
   "source": [
    "-------"
   ]
  },
  {
   "cell_type": "markdown",
   "metadata": {
    "tags": [
     "5_min"
    ]
   },
   "source": [
    "## Understanding our users\n",
    "\n",
    "We may be tempted after conducting all of the above market research to begin outlining a solution to the problem that Airbnb's business leaders have posed. After all, isn't it clear that there are opportunities to: 1) increase fees but also; 2) increase incentive programs? Not so fast! All of the potential solutions so far are financial in nature, whereas in reality guests and hosts may care more about other aspects of the hospitality experience. It is therefore crucial to next *undestand our users* (both guests and hosts) and conduct *user research* in order to determine what matters to them and therefore what levers we can pull.\n",
    "\n",
    "There are many methods available for conducting user research, from user interviews to moderated user testing to A/B testing to automated data collection. Here, we will focus on *user interviews* (i.e. talking directly with hypothetical users to gather anecdotal insights that could be informative of a larger pattern) as it requires the least infrastructure to get going with, but in practice high-quality user-focused organizations will utilize all of the aforementioned methods (and more!)."
   ]
  },
  {
   "cell_type": "markdown",
   "metadata": {
    "tags": [
     "20_min"
    ]
   },
   "source": [
    "### Exercise 3\n",
    "\n",
    "Below are the primary general questions we want to be able to answer about our users? Break these down into sub-questions that we want to ask our users, taking into account trends in bookings post-COVID:\n",
    "\n",
    "1. What are the characteristics of our users? Remember that we have two categories of users - hosts and guests\n",
    "2. How do our users engage with the platform?\n",
    "3. What are users' primary goals when they engage with the platform?\n",
    "4. What are users' pain points when trying to achieve these goals with the platform?\n",
    "\n",
    "Engage with members of your team as if they were active Airbnb users and you are seeking to understand how they have used the platform over the past year, if any and if they plan to travel in the future, how soon and where to?\n",
    "\n",
    "**Hint:** To conduct useful user interviews, the questions need to be purposeful, otherwise you won’t get data worth acting upon. The only thing worse than no data is bad data. Some tips:\n",
    "\n",
    "1. Work with your team to to form any hypotheses, then formulate your questions so that the answers could help validate or invalidate those hypotheses.\n",
    "2. User interviewing is not about asking people want they want you to build or do - often times, users do not know exactly what they want, and it is up to you to solution for them! (The iPhone is a very good example of this.)\n",
    "3. Rather, user interviewing is about learning what a user is trying to do, and understanding what is and isn’t working for them."
   ]
  },
  {
   "cell_type": "markdown",
   "metadata": {
    "tags": [
     "ans_st"
    ]
   },
   "source": [
    "**Answer.**"
   ]
  },
  {
   "cell_type": "markdown",
   "metadata": {},
   "source": [
    "-------"
   ]
  },
  {
   "cell_type": "markdown",
   "metadata": {
    "tags": [
     "20_min"
    ]
   },
   "source": [
    "### Exercise 4\n",
    "\n",
    "Based on what you have found through market and user research, what product features should you look into? What new features or updates would you recommend to the product team and executives? What should we tell our data analyst to investigate?"
   ]
  },
  {
   "cell_type": "markdown",
   "metadata": {
    "tags": [
     "ans_st"
    ]
   },
   "source": [
    "**Answer.**"
   ]
  },
  {
   "cell_type": "markdown",
   "metadata": {},
   "source": [
    "-------"
   ]
  },
  {
   "cell_type": "code",
   "execution_count": null,
   "metadata": {},
   "outputs": [],
   "source": []
  }
 ],
 "metadata": {
  "c1_recart": "7.16.0-57c20131aabc1dc2a8c675852d80a7da"
 },
 "nbformat": 4,
 "nbformat_minor": 5
}
