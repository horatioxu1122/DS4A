{
 "cells": [
  {
   "cell_type": "markdown",
   "metadata": {},
   "source": [
    "# Admissions"
   ]
  },
  {
   "cell_type": "markdown",
   "metadata": {},
   "source": [
    "## Gender bias in graduate admissions \n",
    "\n",
    "Here, we will revisit an example of incorrect statistical analysis that was uncovered in <i>Science</i>, one of the most prestigious scientific publications in the world.  The problem concerns gender bias in graduate admissions\n",
    "at the University of California at Berkeley.  The following table shows admission by gender:\n",
    "\n",
    "|Sex | Accepted | Rejected|\n",
    "|----|----------|---------|\n",
    "|Female| 557    | 1278    |\n",
    "|Male  | 1198   | 1498    |"
   ]
  },
  {
   "cell_type": "markdown",
   "metadata": {},
   "source": [
    "This simple table of summary statistics appears to be troubling for UC Berkeley. It can be seen that about 30% of female applicants were admitted whereas nearly 45% of male applicants were admitted.  "
   ]
  },
  {
   "cell_type": "markdown",
   "metadata": {
    "tags": [
     "5_min"
    ]
   },
   "source": [
    "### Exercise 1:\n",
    "\n",
    "If you were presented with this table, what would your next steps be? Without looking ahead, brainstorm next steps and potential explanations for the imbalance across sexes."
   ]
  },
  {
   "cell_type": "markdown",
   "metadata": {
    "tags": [
     "ans_st"
    ]
   },
   "source": [
    "**Answer.** The percentage of females accepted is 557/(557+1278) = 30.35%. The percentage of males accepted is 1198/(1198+1498) = 44.4%. It seems that a higher percentage of men are accepted. From a first look, it seems like there is gender discrimination against women.\n",
    "\n",
    "But there may be more to the story here. It could be, for example, that more women applied to departments that inherently accept less people."
   ]
  },
  {
   "cell_type": "markdown",
   "metadata": {},
   "source": [
    "-------"
   ]
  },
  {
   "cell_type": "markdown",
   "metadata": {},
   "source": [
    "The original investigators (the authors of the <i>Science</i> paper referenced above) sought to gain further insights into admission by gender through the following visualization. In this plot, each bubble represents a department. The size of the bubble is proporitional to the total number of applicants to that department.\n",
    "\n",
    "<img src=\"data/percentByAccRate.png\" width=\"1000\">"
   ]
  },
  {
   "cell_type": "markdown",
   "metadata": {
    "tags": [
     "5_min"
    ]
   },
   "source": [
    "### Exercise 2:\n",
    "\n",
    "Analyze the graphic. What do you see? Any new insights or conclusions? Discuss with your team.\n",
    "\n",
    "**Hint:** Have you considered the differences among departments in the proportions of men and women applying to them?"
   ]
  },
  {
   "cell_type": "markdown",
   "metadata": {
    "tags": [
     "ans_st"
    ]
   },
   "source": [
    "**Answer.** This plot confirms our intuition above - more women applied to departments which accept less students. But there is a lot going in the above plot, and it may not be the right visualization to help us reach the conclusion we need. For example, it doesn’t really drive the point home as clearly as the upcoming mosaic plot, which shows the admissions by department and sex."
   ]
  },
  {
   "cell_type": "markdown",
   "metadata": {},
   "source": [
    "-------"
   ]
  },
  {
   "cell_type": "markdown",
   "metadata": {},
   "source": [
    "Motivated by Exercise 2, let's look at the following \"mosaic\" plot. This plot gives the fraction of men and women admitted/rejected across various departments with in the university:\n",
    "\n",
    "<img src=\"data/mosaicPlot.png\" width=\"1000\">     "
   ]
  },
  {
   "cell_type": "markdown",
   "metadata": {
    "tags": [
     "3_min"
    ]
   },
   "source": [
    "### Exercise 3:\n",
    "\n",
    "Does the mosaic plot above give additional information compared to the previous table and plot?"
   ]
  },
  {
   "cell_type": "markdown",
   "metadata": {
    "tags": [
     "ans_st"
    ]
   },
   "source": [
    "**Answer.** Yes, it does. If you look at any specific department, the percentage of males rejected is roughly the same as that of women; so if we break it down at the department level, we do not see strong evidence of discrimination within a department. There is even some tentative evidence that some departments prefer women to men (in department A, for example). However, if we aggregate the data over the whole university population, the conclusion seemingly reverses."
   ]
  },
  {
   "cell_type": "markdown",
   "metadata": {},
   "source": [
    "-------"
   ]
  },
  {
   "cell_type": "markdown",
   "metadata": {
    "tags": [
     "7_min"
    ]
   },
   "source": [
    "### Exercise 4:\n",
    "\n",
    "Summing it all up, how exactly would you explain, in your own words, what the higher rejection rate of women compared to men is caused by, at the university population level? What general conclusions can we draw from this case study?"
   ]
  },
  {
   "cell_type": "markdown",
   "metadata": {
    "tags": [
     "ans_st"
    ]
   },
   "source": [
    "**Answer.** We have uncovered a missing piece of the puzzle, which is that not all departments are equally easy to enter. More women apply to departments which are inherently more difficult to get into (for both genders), while more men apply to departments which are inherently easier to get into (for both genders)."
   ]
  },
  {
   "cell_type": "markdown",
   "metadata": {},
   "source": [
    "-------"
   ]
  },
  {
   "cell_type": "markdown",
   "metadata": {},
   "source": [
    "\n",
    "We learned from this case study that there can often be a conflict between statistics uncovered at the granular level vs. at the aggregate level. This is the paradox we have discovered (otherwise known as **Simpson's Paradox**)! Aggregating data can be dangerous since it can give us misleading patterns, and if you are not careful enough to perform a rigurous statistical analysis of the constituents, you'll have misleading conclusions too!"
   ]
  }
 ],
 "metadata": {
  "c1_recart": "5.1.1-SNAPSHOT-57c20131aabc1dc2a8c675852d80a7da",
  "kernelspec": {
   "display_name": "Python 3",
   "language": "python",
   "name": "python3"
  },
  "language_info": {
   "codemirror_mode": {
    "name": "ipython",
    "version": 3
   },
   "file_extension": ".py",
   "mimetype": "text/x-python",
   "name": "python",
   "nbconvert_exporter": "python",
   "pygments_lexer": "ipython3",
   "version": "3.8.8"
  }
 },
 "nbformat": 4,
 "nbformat_minor": 2
}
