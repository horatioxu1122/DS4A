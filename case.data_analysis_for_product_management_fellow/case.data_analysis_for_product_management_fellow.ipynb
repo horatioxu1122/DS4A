{
 "cells": [
  {
   "cell_type": "markdown",
   "metadata": {},
   "source": [
    "# How do I use data to make my product initiative actionable?"
   ]
  },
  {
   "cell_type": "markdown",
   "metadata": {
    "tags": [
     "1_min"
    ]
   },
   "source": [
    "## Goals\n",
    "\n",
    "By the end of this case study you should be able to:\n",
    "\n",
    "1. Determine what data is required and/or ideal to achieve a desired product management objective.\n",
    "2. Break down a product initiative into questions that ought to be answered to proceed forward.\n",
    "3. Use data analysis skills to surface insights and come to conclusions regarding next steps for a product initiative."
   ]
  },
  {
   "cell_type": "markdown",
   "metadata": {
    "tags": [
     "5_min"
    ]
   },
   "source": [
    "## Introduction\n",
    "\n",
    "**Business Context.** You have been working with the Product Manager (PM) as a Product Data Analyst at Airbnb. The PM is looking to launch a strategy to increase the supply of hosts, Luxe properties, and Plus properties. To prepare for this presentation to executive stakeholders, they need more insight into the number of hosts by location, nightly rates by location, and how Superhost status may drive bookings, nightly rates, or instant book properties. \n",
    "\n",
    "**Business Problem.** The executives have asked the PM to determine in which of 10 markets the company should invest more marketing efforts. You need to provide an analysis to the PM so that they can effectively partner with the Marketing team to increase the supply of hosts. In particular, they want to increase supply via targeting properties/hosts that may qualify as a Luxe/Plus product. Recall from the previous case that:\n",
    "\n",
    "* [Luxe](https://news.airbnb.com/airbnb-luxe-reimagines-luxury-travel/) was launched when Airbnb found that bookings for properties that cost over \\\\$1,000 a night increased 60\\% after 2018\n",
    "* [Plus](https://www.airbnb.com/plus) was launched to provide travelers the guarantee of hotel-quality design and hospitality. It includes a \"selection of only the highest quality homes with hosts known for great reviews and attention to detail\", verified by a third-party inspector\n",
    "* For existing targeted marking campaigns, checkout the [Made Possible by Hosts campaign](https://news.airbnb.com/made-possible-by-hosts/)\n",
    "\n",
    "**Analytical Context.** You have been given the [Airbnb Listings and Review Summary Data](http://insideairbnb.com/get-the-data.html), which contains Airbnb data up to Q1 2021 for Bangkok, Cape Town, Mexico City, New York, Paris, Rio de Janeiro, Sydney and Rome. The columns that you will be working with are:\n",
    "\n",
    "* **Location**: The city where the property is located.\n",
    "* **host_is_superhost**: Whether the host of the property is a superhost (`t`) or not (`f`).\n",
    "* **property_type**: The type of the property.\n",
    "* **number_of_reviews**: How many reviews the property has received.\n",
    "* **review_scores_rating**: The review score that the property has received.\n",
    "* **instant_bookable**: Whether the property can be booked on short notice (`t`) or not (`f`).\n",
    "* **price**: The daily price of the listing in local currency."
   ]
  },
  {
   "cell_type": "markdown",
   "metadata": {},
   "source": [
    "Let's load the libraries we'll be using for this case:"
   ]
  },
  {
   "cell_type": "code",
   "execution_count": null,
   "metadata": {},
   "outputs": [],
   "source": [
    "import pandas as pd\n",
    "import seaborn as sns"
   ]
  },
  {
   "cell_type": "markdown",
   "metadata": {
    "tags": [
     "3_min"
    ]
   },
   "source": [
    "## What is a Product Data Analyst?\n",
    "\n",
    "Product Data Analyst is a hybrid role between a Data Analyst/Scientist and Business Intelligence Analyst. The Product Data Analyst works cross-functionally with other teams (e.g. Design, Marketing) to launch new products or enhance existing products, by leveraging data analysis to drive the team's decision-making. \n",
    "\n",
    "Examples of such analyses includes defining and monitoring product-related metrics, investigating the user experience to make business recommendations (cost-benefit, forecasting, impact analysis, etc.), building dashboards, designing and conducting A/B tests, and more.\n",
    "\n",
    "![Roles of a product manager](data/images/PMDSRoles.png)"
   ]
  },
  {
   "cell_type": "markdown",
   "metadata": {
    "tags": [
     "1_min"
    ]
   },
   "source": [
    "## Knowing your dataset's limitations\n",
    "\n",
    "There is always going to be a gap between what you would ideally *want* to figure out, and what you realistically *can* figure out given the data you have. This boundary is very important for a Product Data Analyst to be aware of, as it determines what sorts of initiatives you can confidently push forward with, which ones you can proceed with but with increased skepticism, and which ones have simply too many unknowns to be worth the effort. Let's try to figure out what these boundaries are."
   ]
  },
  {
   "cell_type": "markdown",
   "metadata": {
    "tags": [
     "5_min"
    ]
   },
   "source": [
    "### Exercise 1\n",
    "\n",
    "Write out some of the variables and metrics you may need to answer the questions mentioned in the introduction.\n",
    "\n",
    "> To prepare for this presentation to executive stakeholders, they need more insight into the number of hosts by location, top nightly rates per location and how Superhost status may drive bookings, nightly rates, or instant book properties."
   ]
  },
  {
   "cell_type": "markdown",
   "metadata": {
    "tags": [
     "ans_st"
    ]
   },
   "source": [
    "**Answer.**"
   ]
  },
  {
   "cell_type": "markdown",
   "metadata": {},
   "source": [
    "-------"
   ]
  },
  {
   "cell_type": "markdown",
   "metadata": {
    "tags": [
     "7_min"
    ]
   },
   "source": [
    "### Exercise 2\n",
    "\n",
    "Explore the Inside Airbnb [Data Dictionary](data/Inside_Airbnb_Data_Dictionary.xlsx) (look at the `listings.csv detail v4` worksheet) and identify examples of datasets not included in the listings and reviews data you've been given already, yet which could be useful for this analysis. What additional concerns do you have about the data we've provided that you would want to make the PM aware of?"
   ]
  },
  {
   "cell_type": "markdown",
   "metadata": {
    "tags": [
     "ans_st"
    ]
   },
   "source": [
    "**Answer.**"
   ]
  },
  {
   "cell_type": "markdown",
   "metadata": {},
   "source": [
    "-------"
   ]
  },
  {
   "cell_type": "markdown",
   "metadata": {
    "tags": [
     "5_min"
    ]
   },
   "source": [
    "### Exercise 3\n",
    "\n",
    "You were in the same meeting as the PM and heard leadership asking about attracting more hosts and Luxe/Plus properties to the platform. Given this, come up with some initial questions that would be worthwhile to ask about the data that you have."
   ]
  },
  {
   "cell_type": "markdown",
   "metadata": {
    "tags": [
     "ans_st"
    ]
   },
   "source": [
    "**Answer.**"
   ]
  },
  {
   "cell_type": "markdown",
   "metadata": {},
   "source": [
    "-------"
   ]
  },
  {
   "cell_type": "markdown",
   "metadata": {
    "tags": [
     "3_min"
    ]
   },
   "source": [
    "Let's start by reading in our data:"
   ]
  },
  {
   "cell_type": "code",
   "execution_count": null,
   "metadata": {},
   "outputs": [],
   "source": [
    "listings = pd.read_csv('data/all_listings.csv')\n",
    "listings.head()"
   ]
  },
  {
   "cell_type": "markdown",
   "metadata": {
    "tags": [
     "8_min"
    ]
   },
   "source": [
    "### Exercise 4\n",
    "\n",
    "#### 4.1\n",
    "\n",
    "What is the breakdown of listings by country? What are our top countries for supply? "
   ]
  },
  {
   "cell_type": "markdown",
   "metadata": {
    "tags": [
     "ans_st"
    ]
   },
   "source": [
    "**Answer.**"
   ]
  },
  {
   "cell_type": "markdown",
   "metadata": {},
   "source": [
    "-------"
   ]
  },
  {
   "cell_type": "markdown",
   "metadata": {
    "tags": [
     "10_min"
    ]
   },
   "source": [
    "#### 4.2\n",
    "\n",
    "Superhosts uphold a high standard for hospitality, so when we think of offering guests the opportunity to upgrade to a premium product line, we think of our Superhosts first.\n",
    "\n",
    "What percentage of listings are posted by Superhosts? How does this vary by location?\n",
    "\n",
    "**Hint:** To plot the counts of Superhosts per location, use [`sns.catplot()`](https://seaborn.pydata.org/generated/seaborn.catplot.html) with the `kind=\"count\"` argument."
   ]
  },
  {
   "cell_type": "markdown",
   "metadata": {
    "tags": [
     "ans_st"
    ]
   },
   "source": [
    "**Answer.**"
   ]
  },
  {
   "cell_type": "markdown",
   "metadata": {},
   "source": [
    "-------"
   ]
  },
  {
   "cell_type": "markdown",
   "metadata": {
    "tags": [
     "8_min"
    ]
   },
   "source": [
    "#### 4.3\n",
    "\n",
    "What are our top property types? Of those, which property types have the highest percentage of Superhosts?"
   ]
  },
  {
   "cell_type": "markdown",
   "metadata": {
    "tags": [
     "ans_st"
    ]
   },
   "source": [
    "**Answer.**"
   ]
  },
  {
   "cell_type": "markdown",
   "metadata": {},
   "source": [
    "-------"
   ]
  },
  {
   "cell_type": "markdown",
   "metadata": {
    "tags": [
     "5_min"
    ]
   },
   "source": [
    "#### 4.4\n",
    "\n",
    "We've learned that one of the reasons Superhosts receive more bookings is because of their past review frequency. How does their review count compare with those of regular hosts? Do Superhosts have better or worse reviews?"
   ]
  },
  {
   "cell_type": "markdown",
   "metadata": {
    "tags": [
     "ans_st"
    ]
   },
   "source": [
    "**Answer.**"
   ]
  },
  {
   "cell_type": "markdown",
   "metadata": {},
   "source": [
    "-------"
   ]
  },
  {
   "cell_type": "markdown",
   "metadata": {
    "tags": [
     "3_min"
    ]
   },
   "source": [
    "#### 4.5\n",
    "\n",
    "Instant Book listings allow you to book immediately without needing to send a reservation request to a host for approval. Understanding this segment of listings is helpful to our spontaneous travelers who want to automatically book a place on short notice. Repeat the above analysis to see if the results changes for such listings."
   ]
  },
  {
   "cell_type": "markdown",
   "metadata": {
    "tags": [
     "ans_st"
    ]
   },
   "source": [
    "**Answer.**"
   ]
  },
  {
   "cell_type": "markdown",
   "metadata": {},
   "source": [
    "-------"
   ]
  },
  {
   "cell_type": "markdown",
   "metadata": {
    "tags": [
     "4_min"
    ]
   },
   "source": [
    "### Exercise 5\n",
    "\n",
    "Based on the above preliminary analysis, what could you advise your PM to do?"
   ]
  },
  {
   "cell_type": "markdown",
   "metadata": {
    "tags": [
     "ans_st"
    ]
   },
   "source": [
    "**Answer.**"
   ]
  },
  {
   "cell_type": "markdown",
   "metadata": {},
   "source": [
    "-------"
   ]
  },
  {
   "cell_type": "markdown",
   "metadata": {
    "tags": [
     "1_min"
    ]
   },
   "source": [
    "##  Producing analysis to help devise the marketing campaign\n",
    "\n",
    "We have some insights already; however, the PMs may have additional questions they need to answer in order to create a targeted marketing campaign for recruiting more hosts and offering Luxe or Plus properties."
   ]
  },
  {
   "cell_type": "markdown",
   "metadata": {
    "tags": [
     "5_min"
    ]
   },
   "source": [
    "### Exercise 6\n",
    "\n",
    "What do you think some of those questions are?"
   ]
  },
  {
   "cell_type": "markdown",
   "metadata": {
    "tags": [
     "ans_st"
    ]
   },
   "source": [
    "**Answer.**"
   ]
  },
  {
   "cell_type": "markdown",
   "metadata": {},
   "source": [
    "-------"
   ]
  },
  {
   "cell_type": "markdown",
   "metadata": {
    "tags": [
     "10_min"
    ]
   },
   "source": [
    "### Exercise 7\n",
    "\n",
    "#### 7.1\n",
    "\n",
    "Is there a noticeable difference in the average listing price by location and host tenure? This will help us calculate future revenue projections and establish if any properties may qualify for Luxe.\n",
    "\n",
    "**Hint:** Use a Seaborn catplot again to plot a set of bar charts (`kind=bar`). This time you should add the `sharey=False` argument so that the plots don't share the y axis (they shouldn't because prices across locations are not in the same currency)."
   ]
  },
  {
   "cell_type": "markdown",
   "metadata": {
    "tags": [
     "ans_st"
    ]
   },
   "source": [
    "**Answer.**"
   ]
  },
  {
   "cell_type": "markdown",
   "metadata": {},
   "source": [
    "-------"
   ]
  },
  {
   "cell_type": "markdown",
   "metadata": {
    "tags": [
     "12_min"
    ]
   },
   "source": [
    "#### 7.2\n",
    "\n",
    "Which property types have higher average listing prices, and therefore could be considered for Luxe or Plus? Make separate plots for Paris, New York, and Sidney."
   ]
  },
  {
   "cell_type": "markdown",
   "metadata": {
    "tags": [
     "ans_st"
    ]
   },
   "source": [
    "**Answer.**"
   ]
  },
  {
   "cell_type": "markdown",
   "metadata": {},
   "source": [
    "-------"
   ]
  },
  {
   "cell_type": "markdown",
   "metadata": {
    "tags": [
     "4_min"
    ]
   },
   "source": [
    "## Conclusions\n",
    "\n",
    "The results from this exploratory analysis can certainly give your team some insight on what could be done to drive up the supply of hosts, Luxe properties, and Plus properties. We saw that Paris, New York, and Sidney are the locations with more listings, which may reflect the fact that they are more attractive to tourists and travelers than other destinations. It seems that those locations are the ones where you should be focusing your efforts. We also saw that being a Superhost or having Instant Book have the potential to increase customer engagement, but since we discovered that Superhosts do not necessarily charge more than ordinary hosts, we could say that we have mixed results here. Finally, the most expensive property types are those where the customer can rent the entire house, apartment, or villa. This is an interesting market segment, some of the properties may only be eligible for Luxe since only a proportion of guests presumably are able to rent high-end properties, i.e., Villas, Boats and Bungalows and their supply is very limited. Entire homes and apartments are likely better suited for Plus but It could be a good idea to start sourcing new datasets to complement this one and thus gain a better understanding of the market."
   ]
  },
  {
   "cell_type": "markdown",
   "metadata": {},
   "source": [
    "## Attribution\n",
    "\n",
    "Airbnb Listings and Review Summary Data, Jul 29, 2021, Inside Airbnb, Public Domain, http://insideairbnb.com/get-the-data.html"
   ]
  }
 ],
 "metadata": {
  "c1_recart": "7.18.0-57c20131aabc1dc2a8c675852d80a7da"
 },
 "nbformat": 4,
 "nbformat_minor": 5
}
