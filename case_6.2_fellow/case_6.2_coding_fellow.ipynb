{
 "cells": [
  {
   "cell_type": "markdown",
   "metadata": {
    "tags": [
     "38_min",
     "65_min"
    ]
   },
   "source": [
    "# How should we price homes in Seattle?"
   ]
  },
  {
   "cell_type": "markdown",
   "metadata": {
    "tags": [
     "2_min"
    ]
   },
   "source": [
    "## Pulling in the data\n",
    "\n",
    "Let's start by importing the required libraries:"
   ]
  },
  {
   "cell_type": "code",
   "execution_count": null,
   "metadata": {},
   "outputs": [],
   "source": [
    "import pandas as pd\n",
    "import numpy as np\n",
    "import matplotlib.pyplot as plt\n",
    "from scipy import stats\n",
    "import statsmodels.formula.api as smf"
   ]
  },
  {
   "cell_type": "markdown",
   "metadata": {},
   "source": [
    "Let's now load the data:"
   ]
  },
  {
   "cell_type": "code",
   "execution_count": null,
   "metadata": {},
   "outputs": [],
   "source": [
    "houses = pd.read_csv('data/kc_house_data.csv')"
   ]
  },
  {
   "cell_type": "markdown",
   "metadata": {
    "tags": [
     "3_min"
    ]
   },
   "source": [
    "## Making normal QQ-plots\n",
    "\n",
    "We can make normal QQ-plots with the [**`scipy.stats.probplot()`**](https://docs.scipy.org/doc/scipy/reference/generated/scipy.stats.probplot.html) function from `scipy`. The syntax is pretty straightforward:\n",
    "\n",
    "~~~python\n",
    "probplot(x, dist, plot)\n",
    "~~~\n",
    "\n",
    "`x` is the `pandas` Series whose quantiles will be plotted and `dist` determines the theoretical distribution which `x`'s quantiles will be compared with. In our case, we want to compare `x` to the normal distribution. We can specify that with the `norm` keyword (see the example below).\n",
    "\n",
    "The `plot` argument tells `scipy` to produce a plot using a specific engine. We usually pass `plot=plt` to use `matplotlib` (`plt` comes from the `import matplotlib.pyplot as plt` line that we ran a moment ago in our imports cell)."
   ]
  },
  {
   "cell_type": "markdown",
   "metadata": {
    "tags": [
     "4_min"
    ]
   },
   "source": [
    "### Example 1\n",
    "\n",
    "Make a normal QQ-plot of the `price` variable."
   ]
  },
  {
   "cell_type": "markdown",
   "metadata": {},
   "source": [
    "**Answer.** Shown below:"
   ]
  },
  {
   "cell_type": "code",
   "execution_count": null,
   "metadata": {},
   "outputs": [],
   "source": [
    "## QQ plot of price\n",
    "stats.probplot(x=houses['price'], dist=\"norm\", plot=plt)\n",
    "plt.title(\"QQ Plot for Prices\")\n",
    "plt.show()"
   ]
  },
  {
   "cell_type": "markdown",
   "metadata": {
    "tags": [
     "5_min"
    ]
   },
   "source": [
    "### Exercise 1\n",
    "\n",
    "Make a normal QQ-plot of the `sqft_living` variable."
   ]
  },
  {
   "cell_type": "markdown",
   "metadata": {
    "tags": [
     "ans_st"
    ]
   },
   "source": [
    "**Answer.**"
   ]
  },
  {
   "cell_type": "markdown",
   "metadata": {},
   "source": [
    "-------"
   ]
  },
  {
   "cell_type": "markdown",
   "metadata": {
    "tags": [
     "5_min"
    ]
   },
   "source": [
    "## Regressions with logarithmically transformed variables\n",
    "\n",
    "To run regressions in Python, we can use the `statmodels` library (we imported it with the `import statsmodels.formula.api as smf` line at the beginning of this notebook). As you know from a previous case, you need to first define a formula and then pass it to the `ols` function. For example, to run the model:\n",
    "\n",
    "$$\n",
    "\\widehat{price} = \\beta_0 + \\beta_1 sqft{\\_}living + \\varepsilon\n",
    "$$\n",
    "\n",
    "we can use the following code:"
   ]
  },
  {
   "cell_type": "code",
   "execution_count": null,
   "metadata": {},
   "outputs": [],
   "source": [
    "model = smf.ols(formula='price ~ sqft_living', data=houses).fit()"
   ]
  },
  {
   "cell_type": "markdown",
   "metadata": {},
   "source": [
    "We can then inspect the results by calling the model's `summary()` method:"
   ]
  },
  {
   "cell_type": "code",
   "execution_count": null,
   "metadata": {},
   "outputs": [],
   "source": [
    "model.summary()"
   ]
  },
  {
   "cell_type": "markdown",
   "metadata": {
    "tags": [
     "5_min"
    ]
   },
   "source": [
    "### Example 2\n",
    "\n",
    "Run the following model and show its output:\n",
    "\n",
    "$$\n",
    "\\widehat{price} = \\beta_0 + \\beta_1\\log(sqft{\\_}living) + \\varepsilon\n",
    "$$"
   ]
  },
  {
   "cell_type": "markdown",
   "metadata": {},
   "source": [
    "**Answer.** Here our input variable `sqft_living` has been logarithmically transformed. To translate this model into code, we can make use of the `numpy` library's `log` function. For instance, the code below outputs $\\log(\\text{sqft_living})$:"
   ]
  },
  {
   "cell_type": "code",
   "execution_count": null,
   "metadata": {},
   "outputs": [],
   "source": [
    "np.log(houses[\"sqft_living\"])"
   ]
  },
  {
   "cell_type": "markdown",
   "metadata": {},
   "source": [
    "One option is to create a new variable in the `houses` DataFrame that is $\\log(sqft{\\_}living)$ and then run the regression as usual with `statmodels`. Another (more convenient) approach is to directly incorporate `np.log()` in the formula itself, like this:"
   ]
  },
  {
   "cell_type": "code",
   "execution_count": null,
   "metadata": {},
   "outputs": [],
   "source": [
    "level_log_model = smf.ols(formula='price ~ np.log(sqft_living)', data=houses).fit()\n",
    "level_log_model.summary()"
   ]
  },
  {
   "cell_type": "markdown",
   "metadata": {
    "tags": [
     "5_min"
    ]
   },
   "source": [
    "### Exercise 2\n",
    "\n",
    "Run the following model and show its output:\n",
    "\n",
    "$$\n",
    "\\widehat{\\log(price)} = \\beta_0 + \\beta_1\\log(sqft{\\_}living) + \\varepsilon\n",
    "$$"
   ]
  },
  {
   "cell_type": "markdown",
   "metadata": {
    "tags": [
     "ans_st"
    ]
   },
   "source": [
    "**Answer.**"
   ]
  },
  {
   "cell_type": "markdown",
   "metadata": {},
   "source": [
    "-------"
   ]
  },
  {
   "cell_type": "markdown",
   "metadata": {
    "tags": [
     "1_min"
    ]
   },
   "source": [
    "## Box-Cox $\\lambda$ transformation\n",
    "\n",
    "For this, we will use `scipy.stats` again. The function you need is `boxcox()`, which takes as input the `pandas` Series you want to transform and outputs the transformed Series and the value of $\\lambda$."
   ]
  },
  {
   "cell_type": "markdown",
   "metadata": {
    "tags": [
     "4_min"
    ]
   },
   "source": [
    "### Example 3\n",
    "\n",
    "Transform the `price` column using the Box-Cox criterion. Print both the transformed variable and the value of $\\lambda$."
   ]
  },
  {
   "cell_type": "markdown",
   "metadata": {},
   "source": [
    "**Answer.** We can assign the two outputs of the `boxcox()` function to two variables, like this:"
   ]
  },
  {
   "cell_type": "code",
   "execution_count": null,
   "metadata": {},
   "outputs": [],
   "source": [
    "transformed_price, lambda_price = stats.boxcox(houses['price'])"
   ]
  },
  {
   "cell_type": "markdown",
   "metadata": {},
   "source": [
    "This is the Box-Cox-transformed Series:"
   ]
  },
  {
   "cell_type": "code",
   "execution_count": null,
   "metadata": {},
   "outputs": [],
   "source": [
    "transformed_price"
   ]
  },
  {
   "cell_type": "markdown",
   "metadata": {},
   "source": [
    "And this is the $\\lambda$:"
   ]
  },
  {
   "cell_type": "code",
   "execution_count": null,
   "metadata": {},
   "outputs": [],
   "source": [
    "lambda_price"
   ]
  },
  {
   "cell_type": "markdown",
   "metadata": {
    "tags": [
     "5_min"
    ]
   },
   "source": [
    "### Exercise 3\n",
    "\n",
    "Transform the `sqft_living` column using the Box-Cox criterion. Print both the transformed variable and the value of $\\lambda$."
   ]
  },
  {
   "cell_type": "markdown",
   "metadata": {
    "tags": [
     "ans_st"
    ]
   },
   "source": [
    "**Answer.**"
   ]
  },
  {
   "cell_type": "markdown",
   "metadata": {},
   "source": [
    "-------"
   ]
  },
  {
   "cell_type": "markdown",
   "metadata": {
    "tags": [
     "5_min"
    ]
   },
   "source": [
    "## Categorical variables and squared variables\n",
    "\n",
    "To include a categorical variable in a regression in `statsmodels`, you need to use this syntax in the model formula:\n",
    "\n",
    "~~~python\n",
    "C(the_variable)\n",
    "~~~\n",
    "\n",
    "`C` stands for \"categorical\". If you want to add a squared variable, you have to use this syntax (recall that to take a number `x` to the `y`-th power in Python you write `x**y`):\n",
    "\n",
    "~~~python\n",
    "I(the_variable**2)\n",
    "~~~\n",
    "\n",
    "This syntax comes from the [**`patsy`**](https://patsy.readthedocs.io/en/latest/) package, which is used by `statsmodels` under the hood to translate statistical expressions into Python code. The [**`I()`**](https://patsy.readthedocs.io/en/latest/formulas.html#the-formula-language) (for \"identity\") function simply tells `patsy` that everything that is inside the parenthesis should be passed as-is to the model. Therefore, `I(the_variable**2)` means that Python should first compute `the_variable**2` and then pass the result as one of the input variables to the linear model."
   ]
  },
  {
   "cell_type": "markdown",
   "metadata": {
    "tags": [
     "5_min"
    ]
   },
   "source": [
    "### Example 4\n",
    "\n",
    "Run the following model and show its output:\n",
    "\n",
    "$$\n",
    "\\widehat{price} = \\beta_0 + \\beta_1 sqft{\\_}living + \\beta_2 waterfront + \\beta_3 lat^2 + \\varepsilon\n",
    "$$"
   ]
  },
  {
   "cell_type": "markdown",
   "metadata": {},
   "source": [
    "**Answer.** Here we have two variable transformations:\n",
    "\n",
    "* $waterfront$ (a categorical variable): `C(waterfront)`\n",
    "* $lat^2$: `I(lat**2)`\n",
    "\n",
    "The code should be:"
   ]
  },
  {
   "cell_type": "code",
   "execution_count": null,
   "metadata": {},
   "outputs": [],
   "source": [
    "model_transformed_vars = smf.ols(formula='price ~ sqft_living + C(waterfront) + I(lat**2)', data=houses).fit()\n",
    "model_transformed_vars.summary()"
   ]
  },
  {
   "cell_type": "markdown",
   "metadata": {
    "tags": [
     "6_min"
    ]
   },
   "source": [
    "### Exercise 4\n",
    "\n",
    "Run the following model and show its output:\n",
    "\n",
    "$$\n",
    "\\widehat{price} = \\beta_0 + \\beta_1 sqft{\\_}living + \\beta_2 waterfront + \\beta_3 lat^2 + \\beta_4 view + \\beta_5 yr{\\_}built^2 + \\varepsilon\n",
    "$$\n",
    "\n",
    "**Hint:** `view` is a categorical variable."
   ]
  },
  {
   "cell_type": "markdown",
   "metadata": {
    "tags": [
     "ans_st"
    ]
   },
   "source": [
    "**Answer.**"
   ]
  },
  {
   "cell_type": "markdown",
   "metadata": {},
   "source": [
    "-------"
   ]
  },
  {
   "cell_type": "markdown",
   "metadata": {
    "tags": [
     "1_min"
    ]
   },
   "source": [
    "## Interaction terms\n",
    "\n",
    "To model interaction effects in the `patsy` syntax, you just multiply the variables together with the `*` operator:\n",
    "\n",
    "~~~python\n",
    "variable_1 * variable_2\n",
    "~~~"
   ]
  },
  {
   "cell_type": "markdown",
   "metadata": {
    "tags": [
     "3_min"
    ]
   },
   "source": [
    "### Example 5\n",
    "\n",
    "Run the following model and show its output:\n",
    "\n",
    "$$\n",
    "\\widehat{price} = \\beta_0 + \\beta_1 sqft{\\_}living + \\beta_2 waterfront + \\beta_3 lat + \\beta_4 (waterfront \\times lat) + \\varepsilon\n",
    "$$"
   ]
  },
  {
   "cell_type": "markdown",
   "metadata": {},
   "source": [
    "**Answer.** We add the interaction term with this code:\n",
    "\n",
    "~~~python\n",
    "waterfront * lat\n",
    "~~~\n",
    "\n",
    "The complete code looks like this:"
   ]
  },
  {
   "cell_type": "code",
   "execution_count": null,
   "metadata": {},
   "outputs": [],
   "source": [
    "model_interaction = smf.ols(formula='price ~ sqft_living + C(waterfront) + lat + C(waterfront) * lat', data=houses).fit()\n",
    "model_interaction.summary()"
   ]
  },
  {
   "cell_type": "markdown",
   "metadata": {
    "tags": [
     "6_min"
    ]
   },
   "source": [
    "### Exercise 5\n",
    "\n",
    "Run the following model and show its output:\n",
    "\n",
    "$$\n",
    "\\widehat{price} = \\beta_0 + \\beta_1 \\log(sqft{\\_}living) + \\beta_2 view + \\beta_3 (\\log(sqft{\\_}living) \\times view) + \\varepsilon\n",
    "$$"
   ]
  },
  {
   "cell_type": "markdown",
   "metadata": {
    "tags": [
     "ans_st"
    ]
   },
   "source": [
    "**Answer.**"
   ]
  },
  {
   "cell_type": "markdown",
   "metadata": {},
   "source": [
    "-------"
   ]
  },
  {
   "cell_type": "markdown",
   "metadata": {},
   "source": [
    "## Attribution\n",
    "\n",
    "\"House Sales in King County, USA\", August 25, 2016, harlfoxem, CC0 Public Domain, https://www.kaggle.com/harlfoxem/housesalesprediction"
   ]
  }
 ],
 "metadata": {
  "c1_recart": "7.0.0-57c20131aabc1dc2a8c675852d80a7da"
 },
 "nbformat": 4,
 "nbformat_minor": 5
}
