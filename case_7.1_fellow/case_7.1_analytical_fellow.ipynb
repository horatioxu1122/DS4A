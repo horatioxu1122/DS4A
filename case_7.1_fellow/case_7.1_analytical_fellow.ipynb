{
 "cells": [
  {
   "cell_type": "markdown",
   "metadata": {
    "colab_type": "text",
    "id": "8XB8xTtnlvLx",
    "tags": [
     "125_min"
    ]
   },
   "source": [
    "# Characterizing tree growth in a Californian forest\n",
    "\n",
    "![Sequoias in California](data/images/sequoia.jpg)"
   ]
  },
  {
   "cell_type": "markdown",
   "metadata": {
    "tags": [
     "3_min"
    ]
   },
   "source": [
    "## Goals\n",
    "\n",
    "One of the key problems in data science is that of determining if a pattern you notice is significant enough to warrant further investigation. In this case, you will learn a fundamental tool to approach this problem called **statistical hypothesis testing**. By the end of this case you will be familiar with:\n",
    "\n",
    "* Understanding sampling distributions and statistical significance\n",
    "* Conducting hypothesis tests and  making inferences\n",
    "* Accounting for common errors that arise in hypothesis testing"
   ]
  },
  {
   "cell_type": "markdown",
   "metadata": {
    "tags": [
     "5_min"
    ]
   },
   "source": [
    "## Introduction\n",
    "\n",
    "**Business Context.** You are part of a civil society organization that tracks environmental metrics related to deforestation and forest quality across the United States. The data analytics team has been tasked with conducting an assessment of the possible conservation strategies for a protected forest in the state of California. As part of the research project, they need to establish some descriptive metrics of the forest's vertical stratification (which tree species belong to the canopy and which to the understory), species diversity, biomass, etc. This is important because if the trees in this specific location exhibit different physical characteristics than trees in the rest of California, the strategies to conserve them may need to be adjusted to account for these particularities.\n",
    "\n",
    "**Business Problem.** Your job is to **determine which tree species in the protected forest have heights that differ substantially from those species' average heights across the state of California.** From this, other members of the team will proceed to conduct species-specific surveys to further investigate the ecological conditions of the places where these trees are found.\n",
    "\n",
    "**Analytical Context.** You have been given a survey dataset that has data for 18 species from the protected forest. The sample contains 100 trees per species. The table that we will be working with has the following fields:\n",
    "\n",
    "1. **CN**: A unique tree identifier. Each tree in the survey has a number\n",
    "2. **HT**: Height of the tree in feet\n",
    "3. **SITREE**: The [site index](https://en.wikipedia.org/wiki/Site_index) (age-normalized height of the tree in feet)\n",
    "4. **common_name**: The tree species' common name\n",
    "5. **scientific_name**: The tree species' scientific name\n",
    "\n",
    "The case will proceed as follows: 1) we will look at census data from a reserve outside of California to illustrate the intuition behind the hypothesis tests we will be conducting, for which we will need to understand the population; and 2) we will conduct hypothesis tests on the forest survey data to answer our business problem."
   ]
  },
  {
   "cell_type": "markdown",
   "metadata": {
    "tags": [
     "1_min"
    ]
   },
   "source": [
    "## Importing our applets\n",
    "\n",
    "We will be working with a number of applets in this case. Run the below cell to import them:"
   ]
  },
  {
   "cell_type": "code",
   "execution_count": null,
   "metadata": {},
   "outputs": [],
   "source": [
    "import c1applet.sampling_distribution as sapp\n",
    "import c1applet.t_distribution as tapp\n",
    "import c1applet.t_distribution_p_value as tpvapp\n",
    "import c1applet.t_distribution_one_sample as t1app\n",
    "import c1applet.critical_region as critr"
   ]
  },
  {
   "cell_type": "markdown",
   "metadata": {},
   "source": [
    "**Note:** Some of the applets in this notebook might take several seconds to load or update due to the high number of calculations that they perform in the background."
   ]
  },
  {
   "cell_type": "markdown",
   "metadata": {
    "tags": [
     "2_min"
    ]
   },
   "source": [
    "## Sampling distributions\n",
    "\n",
    "There are 390,955 trees in the reserve for which we have census data. The mean height across all those trees is 57.35 feet (17.5 meters). Thus, we say that the **population** consists of 390,955 trees, and that  **population mean** of tree heights is 57.35 feet (i.e. the mean of the heights of all trees in the population is 57.35 feet). We will denote the population mean as the Greek lowercase letter $\\mu$ (pronounced *mew*) hereafter.\n",
    "\n",
    "Here is the distribution of the heights of trees in the population, with $\\mu=57.35$ represented as a vertical line in brown:\n",
    "\n",
    "![Distribution of height (population)](data/images/population_distribution.png)"
   ]
  },
  {
   "cell_type": "markdown",
   "metadata": {
    "tags": [
     "4_min"
    ]
   },
   "source": [
    "### Exercise 1\n",
    "\n",
    "Think about the distribution of the population mean $\\mu$, rather than the distribution of the heights of the trees in the population. What would it look like? Share your thoughts with the class."
   ]
  },
  {
   "cell_type": "markdown",
   "metadata": {
    "tags": [
     "ans_st"
    ]
   },
   "source": [
    "**Answer.**"
   ]
  },
  {
   "cell_type": "markdown",
   "metadata": {},
   "source": [
    "-------"
   ]
  },
  {
   "cell_type": "markdown",
   "metadata": {
    "tags": [
     "5_min"
    ]
   },
   "source": [
    "In many real-world scenarios we do not have access to the entire population of data, and instead have to make do with samples of the population. This creates uncertainty because it is very unlikely that the mean of a given sample will be exactly equal to the mean of the population it is drawn from, even if that sample is large and was taken at random. Because of this, it is important that we look at **sampling distributions**. Contrary to the degenerate distribution of $\\mu$ (which only has one value), the sampling distribution of the sample mean has to be constructed using many values. The sampling distribution of the sample mean is the distribution of the means of many samples that were each drawn at random from the population.\n",
    "\n",
    "For instance, we know that our reserve has 390,955 trees and $\\mu=57.5$. We can take samples of (say) 20 trees at a time and compute their sample means like this:\n",
    "\n",
    "| Sample | Sample mean |\n",
    "| --- | --- |\n",
    "| a | 50.1 |\n",
    "| b | 53.8 |\n",
    "| c | 70.5 |\n",
    "| d | 47.2 |\n",
    "| ... | ... |\n",
    "\n",
    "We can create a frequency table with all these sample means and that would constitute our sampling distribution of the sample mean. As you can see, these sample means are fairly close to $\\mu$, but none are exactly equal to $\\mu$. This variation is caused by the fact that our sample size is smaller than the population size. However, we can still get a very good estimate of $\\mu$ by studying the sampling distribution of the sample mean."
   ]
  },
  {
   "cell_type": "markdown",
   "metadata": {
    "tags": [
     "7_min"
    ]
   },
   "source": [
    "### Exercise 2\n",
    "\n",
    "Run the cell below. The distribution that you will see is the sampling distribution of the sample mean for different sample sizes $n$ in our reserve census dataset. Each time you move the sliders, new samples of size $n$ are taken. For example, if you set $n=50$ and the number of samples to 100, then the applet will take 100 samples of 50 trees each from the population, find the mean of each sample, and plot the sampling distribution of all of those sample means.\n",
    "\n",
    "From this, we calculate the mean of the sampling distribution and print it in red. We also give you the population mean as a reference (this is not calculated from the sampling distribution, but we know it from the census).\n",
    "\n",
    "Experiment with different values of $n$ and of the number of samples. What do you notice about the relationship between the mean of the sampling distribution and the population mean?"
   ]
  },
  {
   "cell_type": "code",
   "execution_count": null,
   "metadata": {},
   "outputs": [],
   "source": [
    "# If you need to stop the app, just restart your kernel\n",
    "sapp.app.run_server(port=\"8050\")"
   ]
  },
  {
   "cell_type": "markdown",
   "metadata": {
    "tags": [
     "ans_st"
    ]
   },
   "source": [
    "**Answer.**"
   ]
  },
  {
   "cell_type": "markdown",
   "metadata": {},
   "source": [
    "-------"
   ]
  },
  {
   "cell_type": "markdown",
   "metadata": {
    "tags": [
     "3_min"
    ]
   },
   "source": [
    "### The $t$ - distribution\n",
    "\n",
    "The sampling distribution can be very well approximated by a special distribution that is bell-shaped and is known as the **$t$ - distribution**. The $t$ - distribution is very similar to the normal distribution, but has slightly fatter tails. Move the sliders around in the applet to see how the $t$ - distribution (in blue) changes shape:"
   ]
  },
  {
   "cell_type": "code",
   "execution_count": null,
   "metadata": {},
   "outputs": [],
   "source": [
    "# If you need to stop the app, just restart your kernel\n",
    "tapp.app.run_server(port=\"8050\")"
   ]
  },
  {
   "cell_type": "markdown",
   "metadata": {
    "tags": [
     "2_min"
    ]
   },
   "source": [
    "### $p$-values\n",
    "\n",
    "Another important concept we will need to answer our research question is that of **$p$ - values.** A $p$ - value tells you how likely it is that you draw a certain number or greater when you randomly sample from a given distribution."
   ]
  },
  {
   "cell_type": "markdown",
   "metadata": {
    "tags": [
     "6_min"
    ]
   },
   "source": [
    "### Exercise 3\n",
    "\n",
    "Run the cell below. This is our sampling distribution of the sample mean with the $t$-distribution approximation. Explore how the $p$ - values change as you move the sliders, and share your findings with the class.\n",
    "\n",
    "**Hint:** Some suggestions on how to move around the sliders:\n",
    "\n",
    "* Try putting the yellow line exactly at $\\mu$ and interpret the $p$-value.\n",
    "* See how varying the sample size affects the $p$ - values (try for both values to the left as well as values to the right of $\\mu$).\n",
    "\n",
    "Notice that the $p$ - values were calculated using the $t$ - distribution approximation, *not* the empirical sampling distribution."
   ]
  },
  {
   "cell_type": "code",
   "execution_count": null,
   "metadata": {},
   "outputs": [],
   "source": [
    "# If you need to stop the app, just restart your kernel\n",
    "tpvapp.app.run_server(port=\"8050\")"
   ]
  },
  {
   "cell_type": "markdown",
   "metadata": {
    "tags": [
     "ans_st"
    ]
   },
   "source": [
    "**Answer.**"
   ]
  },
  {
   "cell_type": "markdown",
   "metadata": {},
   "source": [
    "-------"
   ]
  },
  {
   "cell_type": "markdown",
   "metadata": {
    "tags": [
     "6_min"
    ]
   },
   "source": [
    "If you only have one sample, you will not be able to create a sampling distribution like the ones shown, because those require taking many samples. That is why the $t$ - distribution approximation is so useful - you can still use your known population mean $\\mu$ and compute what the sampling distribution *would have looked like* if you had taken many samples of a certain size, and then compare your one sample mean with the $t$-distribution to find its $p$ - value.\n",
    "\n",
    "In the applet below, every time you move the sample size slider, a random sample of size $n$ is taken from the reserve census and is compared to the $t$ - distribution approximation of the sampling distribution (this approximation is centered around the known $\\mu$):"
   ]
  },
  {
   "cell_type": "code",
   "execution_count": null,
   "metadata": {},
   "outputs": [],
   "source": [
    "# If you need to stop the app, just restart your kernel\n",
    "t1app.app.run_server(host=\"0.0.0.0\", port=\"8050\")"
   ]
  },
  {
   "cell_type": "markdown",
   "metadata": {},
   "source": [
    "Remember that the $t$ - distribution above is \"imaginary\" in the sense that it is not fitting an actual sampling distribution, but rather shows what a hypothetical sampling distribution *would have looked like* if you had taken a large number of samples of size $n$."
   ]
  },
  {
   "cell_type": "markdown",
   "metadata": {
    "tags": [
     "3_min"
    ]
   },
   "source": [
    "### Exercise 4\n",
    "\n",
    "#### 4.1\n",
    "\n",
    "Suppose we have two sample means $A$ and $B$ as shown below:\n",
    "\n",
    "![A vs. B](data/images/ab_plot.png)\n",
    "\n",
    "Is it more likely to observe $A$ or greater or $B$ or greater given our sampling distribution?"
   ]
  },
  {
   "cell_type": "markdown",
   "metadata": {
    "tags": [
     "ans_st"
    ]
   },
   "source": [
    "**Answer.**"
   ]
  },
  {
   "cell_type": "markdown",
   "metadata": {},
   "source": [
    "-------"
   ]
  },
  {
   "cell_type": "markdown",
   "metadata": {
    "tags": [
     "4_min"
    ]
   },
   "source": [
    "#### 4.2\n",
    "\n",
    "Now compare the sample mean $B$ with a third sample mean $C$. Is it even plausible to observe $C$ as a sample mean? Can you say something about the population from which sample $C$ was taken?\n",
    "\n",
    "![A vs. C](data/images/bc_plot.png)"
   ]
  },
  {
   "cell_type": "markdown",
   "metadata": {
    "tags": [
     "ans_st"
    ]
   },
   "source": [
    "**Answer.**"
   ]
  },
  {
   "cell_type": "markdown",
   "metadata": {},
   "source": [
    "-------"
   ]
  },
  {
   "cell_type": "markdown",
   "metadata": {
    "tags": [
     "8_min"
    ]
   },
   "source": [
    "## Hypothesis testing\n",
    "\n",
    "That two values are statistically the same is different than saying that they are arithmetically the same. Let's say that $\\bar{X}=56 \\text{ ft}$. We already know that $\\mu=57.35 \\text{ ft}$. Clearly, those two are very different numbers, so they are not arithmetically the same. However, we can reasonably argue that the sample from which $\\bar{X}$ was calculated *did in fact come from a population with mean $\\mu_1=\\mu$*, and that the $1.35 \\text{ ft}$ difference was due to the fact that we only looked at a sample, rather than the entire population. In other words, the argument goes like this:\n",
    "\n",
    "> \"Yes, there is a difference between $\\bar{X}$ and $\\mu$, but if you increase the size of your sample to be the entire population, then you will likely find that $\\bar{X}=\\mu_1=\\mu=57.35$. We expect the difference between $\\bar{X}$ and $\\mu$ to shrink to zero as we increase the sample size. Thus, adjusted for normal sampling variability, the difference between $\\bar{\\mu_1}$ (as estimated by $\\bar{X}$) and $\\mu$ is not **statistically significant**\".\n",
    "\n",
    "We can use **hypothesis testing** to determine whether the difference between $\\mu$ and the mean $\\mu_1$ of the population from which sample mean $\\bar{X}$ was taken is statistically significant. A **hypothesis** is simply an educated guess that we as data analysts make, and this guess may or may not have evidence backing it up just yet. We test our guess by gathering evidence that is either in favor of or against it, and assess the strength of that evidence to determine the validity of our hypothesis.\n",
    "\n",
    "The first step in hypothesis testing is defining the **null hypothesis** (often indicated as $H_0$). For us, the null hypothesis will always correspond to the most conservative, \"status quo\" claim. Often times, this conservative hypothesis will be $ H_0: \\mu=\\mu_1 $."
   ]
  },
  {
   "cell_type": "markdown",
   "metadata": {
    "tags": [
     "7_min"
    ]
   },
   "source": [
    "### The alternative hypothesis\n",
    "\n",
    "We perform hypothesis tests to challenge our status quo claims and use conservative methods to ensure that we do not reject them too easily. In that sense, science limits its speed of innovation in order to reduce the risk of arriving at results that are overly audacious and risky. A good analogy is to the principle governing numerous judicial systems across the world: \"*[Innocent until proven guilty](https://en.wikipedia.org/wiki/Presumption_of_innocence)*\". In other words, we will stick with the null hypothesis unless we find strong evidence against it.\n",
    "\n",
    "Notice that this approach, as is the case with the judicial system, is not perfect. Even if we do not find sufficient evidence against the null hypothesis, the null hypothesis may still turn out to be wrong.\n",
    "\n",
    "To formalize this, we define an **alternative hypothesis** (often indicated with $H_1$ or $H_a$) that challenges the status quo. There are three different ways of defining an alternative hypothesis:\n",
    "\n",
    "1. $H_a: \\mu \\neq \\mu_1$ (two-sided test)\n",
    "2. $H_a: \\mu > \\mu_1$ (one-sided test)\n",
    "3. $H_a: \\mu < \\mu_1$ (one-sided test)\n",
    "\n",
    "Let's define our alternative hypothesis as $H_a: \\mu < \\mu_1$ (the third option) for now (we'll look at the other two options again later). We challenge the assumption that the two population means are statistically the same and want to show that the mean of the *unknown* population from which our sample was taken is indeed greater than the mean $\\mu$ of the *known* population."
   ]
  },
  {
   "cell_type": "markdown",
   "metadata": {
    "tags": [
     "4_min"
    ]
   },
   "source": [
    "### Exercise 5\n",
    "\n",
    "Let's revisit the diagram from the previous exercise:\n",
    "\n",
    "![B vs. C](data/images/bc_plot.png)\n",
    "\n",
    "Let's say that you believe that the mean of the population from which sample mean $B$ was drawn is statistically the same as $\\mu$, while the mean of the population from which sample mean $C$ was drawn is not. You want to convince your colleagues that this is the case, but they are understandably skeptical of anything that is solely based on intuition or perception. Come up with a more objective criterion to determine whether an inferred population mean is statistically different from $\\mu$ or not."
   ]
  },
  {
   "cell_type": "markdown",
   "metadata": {
    "tags": [
     "ans_st"
    ]
   },
   "source": [
    "**Answer.**"
   ]
  },
  {
   "cell_type": "markdown",
   "metadata": {},
   "source": [
    "-------"
   ]
  },
  {
   "cell_type": "markdown",
   "metadata": {
    "tags": [
     "8_min"
    ]
   },
   "source": [
    "### Critical values and significance levels\n",
    "\n",
    "We can define a cutoff point in our $t$ - distribution so that whenever a sample mean falls beyond that point, we can confidently say that its inferred population mean is statistically different from $\\mu$. These cutoff points are called **critical values**. For instance, let's say that our critical value is 65 feet:\n",
    "\n",
    "![](data/images/bc_plot_critical.png)\n",
    "\n",
    "Therefore:\n",
    "\n",
    "* Since $B < 65$, we say that the population mean inferred from $B$ is *not* statistically different from $\\mu$. We cannot prove it, but we cannot disprove it either, and since we are being conservative, we stick to the null hypothesis (even though we can't say that it is 100% correct) and say that we *fail to reject the null hypothesis*.\n",
    "* Since $C > 65$, we say that the population mean inferred from $C$ is statistically different from $\\mu$. In other words, we *reject the null hypothesis*. (There is still some probability that $C$ is not statistically different from $\\mu$, but that probability in this case is sufficiently small.)\n",
    "\n",
    "The problem with critical values is that they have to be re-defined in each situation or hypothesis test, because they are not unit-agnostic. For instance, if our dataset had measurements of trunk diameter in inches, then our cutoff point would have to be adjusted to be in inches and the entire scientific community would have to agree on which critical value would make more sense - 4 inches? 6 inches? 1 inch?\n",
    "\n",
    "The way to solve this problem is to define our critical values indirectly, by using something called **significance levels**. A significance level is simply the $p$ - value that corresponds to a given critical value. For instance, in our $t$ - distribution (with $n=200$), the $p$-value for the critical value at 65 feet is 0.003886. To avoid confusion between the $p$ - value of a sample mean and the $p$ - value of a critical value, we use the Greek letter $\\alpha$ (pronounced *alpha*) to represent the significance level.\n",
    "\n",
    "Scientists can then agree on reasonable significance levels (which are unit-agnostic, since they are probabilities) and let critical values adjust on their own in each individual context. In the social sciences a common significance level is $\\alpha=0.05$, and in the natural sciences a popular standard is $\\alpha=0.01$."
   ]
  },
  {
   "cell_type": "markdown",
   "metadata": {
    "tags": [
     "4_min"
    ]
   },
   "source": [
    "### Exercise 6\n",
    "\n",
    "#### 6.1\n",
    "\n",
    "Play around with $\\alpha$ in the applet below. What happens to the hypotheses as you move the $\\alpha$ slider? And what happens when you increase or decrease the sample size? \n",
    "\n",
    "Here are the two null hypotheses (one for each sample):\n",
    "\n",
    "* $ H_0: \\mu_B=\\mu $\n",
    "* $ H_0: \\mu_C=\\mu $\n",
    "\n",
    "Share your findings with the class."
   ]
  },
  {
   "cell_type": "code",
   "execution_count": null,
   "metadata": {},
   "outputs": [],
   "source": [
    "# If you need to stop the app, just restart your kernel\n",
    "critr.app.run_server(host=\"0.0.0.0\", port=\"8050\")"
   ]
  },
  {
   "cell_type": "markdown",
   "metadata": {
    "tags": [
     "2_min"
    ]
   },
   "source": [
    "#### 6.2\n",
    "\n",
    "Fill in the blank: \"The ______ the $\\alpha$, the more conservative your test, and therefore the more difficult it is to reject the null hypothesis.\""
   ]
  },
  {
   "cell_type": "markdown",
   "metadata": {
    "tags": [
     "ans_st"
    ]
   },
   "source": [
    "**Answer.**"
   ]
  },
  {
   "cell_type": "markdown",
   "metadata": {},
   "source": [
    "-------"
   ]
  },
  {
   "cell_type": "markdown",
   "metadata": {
    "tags": [
     "5_min"
    ]
   },
   "source": [
    "### Comparing $\\alpha$ and the $p$-value\n",
    "\n",
    "Now that you are familiar with the meaning of $\\alpha$ and $p$ - values, you are ready to learn the one rule of thumb that will allow you to interpret the results of hypothesis tests. The rule is very straightforward:\n",
    "\n",
    "> If $p < \\alpha$, reject $H_0$ in favor of $H_a$. Otherwise, fail to reject $H_0$.\n",
    "\n",
    "To graphically see why this rule works, we can compare this plot of a $t$ - test that leads us to reject the null:\n",
    "\n",
    "![Rejecting the null](data/images/rejecting_the_null.png)\n",
    "\n",
    "with a test that does not allow us to reject it:\n",
    "\n",
    "![Failing to reject the null](data/images/failing_to_reject_the_null.png)\n",
    "\n",
    "So always keep in mind - a $p$ - value smaller than your significance level means that you can reject the null hypothesis."
   ]
  },
  {
   "cell_type": "markdown",
   "metadata": {
    "tags": [
     "2_min"
    ]
   },
   "source": [
    "### Question 1\n",
    "\n",
    "Suppose you conducted a $t$ - test with a significance level of $\\alpha=0.01$. The resulting $p$ - value was 0.02. Do you reject the null hypothesis, or fail to reject it?"
   ]
  },
  {
   "cell_type": "markdown",
   "metadata": {
    "tags": [
     "7_min"
    ]
   },
   "source": [
    "### Flipping the script\n",
    "\n",
    "We have so far concentrated on the cases where a sample mean is greater than the population mean. But we can just as easily design a $t$ - test for the opposite alternative hypothesis - namely, that $H_a: \\mu > \\mu_1$. The logic would be exactly the same, only this time you would define your $p$ - value as the probability of getting a value *smaller* than or equal to $\\bar{X}$. The critical value would then shift towards the other tail of the distribution:\n",
    "\n",
    "![](data/images/left_tailed_test.png)\n",
    "\n",
    "You can even have two-tailed $t$ - tests! In this case, the alternative hypothesis would be that $\\mu_1$ is either greater *or* smaller than $\\mu$, that is, $H_a: \\mu \\neq \\mu_1$ and therefore your $\\alpha$ would be split between the two tails:\n",
    "\n",
    "![](data/images/two_tailed_test.png)\n",
    "\n",
    "This way, if your one-tailed $t$ - test had an $\\alpha$ of (say) 0.05, in the two-tailed version you would still have an overall $\\alpha$ of 0.05. If your sample mean $\\bar{X}$ falls beyond *either* of the two critical values (one to the left, and one to the right), then the test will tell you to reject the null hypothesis."
   ]
  },
  {
   "cell_type": "markdown",
   "metadata": {
    "tags": [
     "5_min"
    ]
   },
   "source": [
    "## The forest tree survey\n",
    "\n",
    "Now that we have explored the intuition behind $t$ - tests, let's finally work on our business problem. This should be much easier to tackle now. Here is a sample of the survey your team conducted in the protected Californian forest:\n",
    "\n",
    "<table border=\"1\" class=\"dataframe\">  <thead>    <tr style=\"text-align: right;\">      <th></th>      <th>CN</th>      <th>HT</th>      <th>SITREE</th>      <th>common_name</th>      <th>scientific_name</th>    </tr>  </thead>  <tbody>    <tr>      <th>195279</th>      <td>15330578010497</td>      <td>43.0</td>      <td>74.0</td>      <td>Pacific madrone</td>      <td>Arbutus menziesii</td>    </tr>    <tr>      <th>197212</th>      <td>15304620010497</td>      <td>126.0</td>      <td>100.0</td>      <td>redwood</td>      <td>Sequoia sempervirens</td>    </tr>    <tr>      <th>204533</th>      <td>15351980010497</td>      <td>100.0</td>      <td>34.0</td>      <td>California red fir</td>      <td>Abies magnifica</td>    </tr>    <tr>      <th>208996</th>      <td>15343432010497</td>      <td>106.0</td>      <td>49.0</td>      <td>sugar pine</td>      <td>Pinus lambertiana</td>    </tr>    <tr>      <th>206439</th>      <td>15325289010497</td>      <td>118.0</td>      <td>69.0</td>      <td>incense-cedar</td>      <td>Calocedrus decurrens</td>    </tr>  </tbody></table>\n",
    "\n",
    "This time, instead of tree height, we will use the [*site index*](https://en.wikipedia.org/wiki/Site_index) metric (`SITREE`), which is tree height corrected by age (since older trees are taller than younger ones). You can think of it as the age-normalized height in feet of a given species in a particular location. It usually varies between locations depending on soil conditions, climate, degree of human intervention, etc. We want to compare our forest site indexes with the known average site indexes across California for 18 species.\n",
    "\n",
    "We have conducted one $t$ - test per species. These were the hypotheses for all the tests:\n",
    "\n",
    "* $H_0 : \\mu_{forest} = \\mu_{california}$\n",
    "* $H_a : \\mu_{forest} \\neq \\mu_{california}$\n",
    "\n",
    "where $\\mu_{forest}$ is the unknown population mean for the trees in the forest as inferred from the sample mean, and $\\mu_{california}$ is the known population mean for the trees across the entire state of California (this mean is calculated using the Forest Inventory and Analysis survey database). Of course, $\\mu_{california}$ varies depending on the species. The idea is that if we end up rejecting the null hypothesis, then this particular forest has ecological characteristics that are different from those of the rest of the state of California, and that these characteristics may be behind the differences in growth for particular species."
   ]
  },
  {
   "cell_type": "markdown",
   "metadata": {
    "tags": [
     "3_min"
    ]
   },
   "source": [
    "### Exercise 7\n",
    "\n",
    "Here are the resulting $p$-values for sample sizes of $n=100$ trees for each species:\n",
    "\n",
    "<table border=\"1\" class=\"dataframe\">  <thead>    <tr style=\"text-align: right;\">      <th></th>      <th>common_name</th>      <th>p-value</th>    </tr>    <tr>      <th>scientific_name</th>      <th></th>      <th></th>    </tr>  </thead>  <tbody>    <tr>      <th>Abies concolor</th>      <td>white fir</td>      <td>0.001898</td>    </tr>    <tr>      <th>Pseudotsuga menziesii</th>      <td>Douglas-fir</td>      <td>0.977300</td>    </tr>    <tr>      <th>Lithocarpus densiflorus</th>      <td>tanoak</td>      <td>0.007014</td>    </tr>    <tr>      <th>Pinus ponderosa</th>      <td>ponderosa pine</td>      <td>0.398805</td>    </tr>    <tr>      <th>Calocedrus decurrens</th>      <td>incense-cedar</td>      <td>0.223039</td>    </tr>    <tr>      <th>Quercus chrysolepis</th>      <td>canyon live oak</td>      <td>0.729362</td>    </tr>    <tr>      <th>Pinus contorta</th>      <td>lodgepole pine</td>      <td>0.017226</td>    </tr>    <tr>      <th>Abies magnifica</th>      <td>California red fir</td>      <td>0.075419</td>    </tr>    <tr>      <th>Pinus jeffreyi</th>      <td>Jeffrey pine</td>      <td>0.022479</td>    </tr>    <tr>      <th>Sequoia sempervirens</th>      <td>redwood</td>      <td>0.000185</td>    </tr>    <tr>      <th>Quercus kelloggii</th>      <td>California black oak</td>      <td>0.813010</td>    </tr>    <tr>      <th>Arbutus menziesii</th>      <td>Pacific madrone</td>      <td>0.110845</td>    </tr>    <tr>      <th>Pinus lambertiana</th>      <td>sugar pine</td>      <td>0.316910</td>    </tr>    <tr>      <th>Quercus douglasii</th>      <td>blue oak</td>      <td>0.012836</td>    </tr>    <tr>      <th>Quercus wislizeni</th>      <td>interior live oak</td>      <td>0.123039</td>    </tr>    <tr>      <th>Abies shastensis</th>      <td>Shasta red fir</td>      <td>0.072522</td>    </tr>    <tr>      <th>Pinus albicaulis</th>      <td>whitebark pine</td>      <td>0.063276</td>    </tr>    <tr>      <th>Pinus monticola</th>      <td>western white pine</td>      <td>0.013975</td>    </tr>  </tbody></table>\n",
    "\n",
    "Which species exhibit a statistically significant difference at a significance level of 0.05?"
   ]
  },
  {
   "cell_type": "markdown",
   "metadata": {
    "tags": [
     "ans_st"
    ]
   },
   "source": [
    "**Answer.**"
   ]
  },
  {
   "cell_type": "markdown",
   "metadata": {},
   "source": [
    "-------"
   ]
  },
  {
   "cell_type": "markdown",
   "metadata": {
    "tags": [
     "2_min"
    ]
   },
   "source": [
    "If you look closely, the $p$ - value for *Sequoia sempervirens* (redwood) is extremely small. However, the sample mean for this species in this forest is $\\bar{X}=95.49 \\text{ ft}$, while the mean across all of California is $\\mu_{california}=101.33 \\text{ ft}$. This difference is slightly north of 5 feet, which does not seem like all that much given that redwoods are among the tallest trees in the world.\n",
    "\n",
    "Let's compare the means of the species for which we have just rejected the null hypotheses:\n",
    "\n",
    "<table border=\"1\" class=\"dataframe\">  <thead>    <tr style=\"text-align: right;\">      <th></th>      <th>sample mean (forest)</th>      <th>population mean (California)</th>    </tr>    <tr>      <th>scientific_name</th>      <th></th>      <th></th>    </tr>  </thead>  <tbody>    <tr>      <th>Abies concolor</th>      <td>57.03</td>      <td>55.88</td>    </tr>    <tr>      <th>Lithocarpus densiflorus</th>      <td>90.30</td>      <td>87.39</td>    </tr>    <tr>      <th>Pinus contorta</th>      <td>57.26</td>      <td>56.97</td>    </tr>    <tr>      <th>Pinus jeffreyi</th>      <td>59.11</td>      <td>57.70</td>    </tr>    <tr>      <th>Pinus monticola</th>      <td>50.20</td>      <td>49.79</td>    </tr>    <tr>      <th>Quercus douglasii</th>      <td>94.11</td>      <td>93.38</td>    </tr>    <tr>      <th>Sequoia sempervirens</th>      <td>101.33</td>      <td>95.49</td>    </tr>  </tbody></table>"
   ]
  },
  {
   "cell_type": "markdown",
   "metadata": {
    "tags": [
     "10_min"
    ]
   },
   "source": [
    "### Exercise 8\n",
    "\n",
    "Many of the above differences seem to be very small. Think about why our tests might told us to reject the null hypotheses for all of these species. Discuss your thoughts with a partner."
   ]
  },
  {
   "cell_type": "markdown",
   "metadata": {
    "tags": [
     "ans_st"
    ]
   },
   "source": [
    "**Answer.**"
   ]
  },
  {
   "cell_type": "markdown",
   "metadata": {},
   "source": [
    "-------"
   ]
  },
  {
   "cell_type": "markdown",
   "metadata": {
    "tags": [
     "4_min"
    ]
   },
   "source": [
    "We can deal with this problem by making our criteria more strict as we add more and more tests. One popular way of doing this is to compare our $p$ - values not with $\\alpha$, but with $\\alpha/m$, where $m$ is the number of tests. This strategy is known as the [**Bonferroni correction**](https://en.wikipedia.org/wiki/Bonferroni_correction).\n",
    "\n",
    "If we use the Bonferroni correction, our significance level becomes $\\alpha/18 = 0.0027$. Now only two species show a significant difference:\n",
    "\n",
    "<table border=\"1\" class=\"dataframe\">  <thead>    <tr style=\"text-align: right;\">      <th></th>      <th>common_name</th>      <th>p-value</th>    </tr>    <tr>      <th>scientific_name</th>      <th></th>      <th></th>    </tr>  </thead>  <tbody>    <tr>      <th>Abies concolor</th>      <td>white fir</td>      <td>0.001898</td>    </tr>    <tr>      <th>Sequoia sempervirens</th>      <td>redwood</td>      <td>0.000185</td>    </tr>  </tbody></table>\n",
    "\n",
    "We see that we are still rejecting the null hypothesis for white fir and redwood. This suggests that we should look more into these particular species and possibly create another survey to gather more data."
   ]
  },
  {
   "cell_type": "markdown",
   "metadata": {
    "colab_type": "text",
    "id": "4Sm485Wg7Xh8",
    "tags": [
     "3_min"
    ]
   },
   "source": [
    "## Conclusions and Takeaways\n",
    "\n",
    "In this case, we introduced you to hypothesis tests. We have:\n",
    "\n",
    "1. Explained the concept of hypothesis testing. This tool will help you with problems that involve the detection of differences across populations.\n",
    "2. Understood the importance of recognizing when changes in our data represent normal variability or not, and how hypothesis testing can help us with this problem. \n",
    "3. Learned how to interpret the outcome of a hypothesis test using $p$ - values in the context of sampling distributions and their approximations with the $t$ - distribution. The concept of $p$ - values appears in many models that are used in data science and we will see them in several future cases as well. \n",
    "4. Understood the risks of conducting multiple comparisons simultaneously and a way to prevent these risks using the Bonferroni correction. Remember - *\"if we torture the data enough, it will confess.\"*"
   ]
  },
  {
   "cell_type": "markdown",
   "metadata": {},
   "source": [
    "## Attribution\n",
    "\n",
    "\"Giant sequoias in Sequoia National Park 02 2013\", Sep 15, 2013, Tuxyso (Wikimedia Commons), CC BY-SA 3.0, https://commons.wikimedia.org/wiki/File:Giant_sequoias_in_Sequoia_National_Park_02_2013.jpg\n",
    "\n",
    "\"FIA Datamart\", May 15, 2021, U.S. Department of Agriculture, Forest Service, [Public Domain](https://www.usda.gov/policies-and-links), https://apps.fs.usda.gov/fia/datamart/CSV/datamart_csv.html."
   ]
  }
 ],
 "metadata": {
  "c1_recart": "6.10.0-57c20131aabc1dc2a8c675852d80a7da"
 },
 "nbformat": 4,
 "nbformat_minor": 1
}
