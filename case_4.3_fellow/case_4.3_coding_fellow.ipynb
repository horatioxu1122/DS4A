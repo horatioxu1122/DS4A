{
 "cells": [
  {
   "cell_type": "markdown",
   "metadata": {
    "tags": [
     "45_min",
     "90_min"
    ]
   },
   "source": [
    "\n",
    "# What features determine the price of an Airbnb rental?"
   ]
  },
  {
   "cell_type": "code",
   "execution_count": null,
   "metadata": {},
   "outputs": [],
   "source": [
    "import numpy                 as np\n",
    "import pandas                as pd\n",
    "import matplotlib.pyplot     as plt\n",
    "import seaborn               as sns\n",
    "import folium  #needed for interactive map\n",
    "from folium.plugins import HeatMap\n",
    "%matplotlib inline\n",
    "sns.set()"
   ]
  },
  {
   "cell_type": "markdown",
   "metadata": {
    "tags": [
     "2_min"
    ]
   },
   "source": [
    "## Some basic data exploration\n",
    "\n",
    "We begin by loading the data and looking at its basic shape:"
   ]
  },
  {
   "cell_type": "code",
   "execution_count": null,
   "metadata": {},
   "outputs": [],
   "source": [
    "listings = pd.read_csv('data/airbnb_nyc.csv', delimiter=',')\n",
    "listings.shape"
   ]
  },
  {
   "cell_type": "markdown",
   "metadata": {},
   "source": [
    "We display the basic listings data:"
   ]
  },
  {
   "cell_type": "code",
   "execution_count": null,
   "metadata": {},
   "outputs": [],
   "source": [
    "pd.options.display.max_columns = 100\n",
    "listings.head(3)"
   ]
  },
  {
   "cell_type": "markdown",
   "metadata": {
    "tags": [
     "1_min"
    ]
   },
   "source": [
    "### Plotting the marginal distributions of key quantities of interest\n",
    "\n",
    "As you have seen in the Python cases, it is good to first develop an idea of how the values of a few key quantities of interest are distributed. We always start investigating by gaining an overhead view of various parameters in our data. Let's start by doing so for some numeric variables, such as ```price```, ```bedrooms```, ```bathrooms```, ```number_of_reviews```."
   ]
  },
  {
   "cell_type": "markdown",
   "metadata": {
    "tags": [
     "3_min"
    ]
   },
   "source": [
    "### Example 1\n",
    "\n",
    "Use the [describe()](https://pandas.pydata.org/pandas-docs/stable/reference/api/pandas.DataFrame.describe.html) command to compute some important summary statistics for the above variables."
   ]
  },
  {
   "cell_type": "markdown",
   "metadata": {},
   "source": [
    "**Answer.** One possible solution is given below:"
   ]
  },
  {
   "cell_type": "code",
   "execution_count": null,
   "metadata": {},
   "outputs": [],
   "source": [
    "listings[['price','bedrooms','bathrooms','number_of_reviews']].describe()"
   ]
  },
  {
   "cell_type": "code",
   "execution_count": null,
   "metadata": {},
   "outputs": [],
   "source": [
    "listings[['price','bedrooms','bathrooms','number_of_reviews']].quantile([0.9,0.95,0.99])"
   ]
  },
  {
   "cell_type": "markdown",
   "metadata": {
    "tags": [
     "5_min"
    ]
   },
   "source": [
    "### Exercise 1\n",
    "\n",
    "Plot the histograms of the above variables."
   ]
  },
  {
   "cell_type": "markdown",
   "metadata": {
    "tags": [
     "ans_st"
    ]
   },
   "source": [
    "**Answer.**"
   ]
  },
  {
   "cell_type": "markdown",
   "metadata": {},
   "source": [
    "-------"
   ]
  },
  {
   "cell_type": "markdown",
   "metadata": {
    "tags": [
     "2_min"
    ]
   },
   "source": [
    "## Inspecting price against variables of interest\n",
    "\n",
    "Using `seaborn`, we can create box plots in which the data are grouped by a second column. For instance:"
   ]
  },
  {
   "cell_type": "code",
   "execution_count": null,
   "metadata": {},
   "outputs": [],
   "source": [
    "sns.boxplot(x = \"bedrooms\", y='price', data = listings)\n",
    "plt.title(\"Boxplot of Price vs. bedrooms\")"
   ]
  },
  {
   "cell_type": "markdown",
   "metadata": {
    "tags": [
     "6_min"
    ]
   },
   "source": [
    "### Exercise 2\n",
    "\n",
    "Create box plots of `price` vs. `bathrooms`, `price` vs. `number_of_reviews`, and `price` vs. `review_scores_cleanliness`."
   ]
  },
  {
   "cell_type": "markdown",
   "metadata": {
    "tags": [
     "ans_st"
    ]
   },
   "source": [
    "**Answer.**"
   ]
  },
  {
   "cell_type": "markdown",
   "metadata": {},
   "source": [
    "-------"
   ]
  },
  {
   "cell_type": "markdown",
   "metadata": {
    "tags": [
     "5_min"
    ]
   },
   "source": [
    "## Investigating correlations\n",
    "\n",
    "To calculate correlation coefficients, we use [**`.corr()`**](https://pandas.pydata.org/docs/reference/api/pandas.DataFrame.corr.html) from `pandas`. For instance, to find the correlation $r$ between `price` and `bedrooms`, we can run this line:"
   ]
  },
  {
   "cell_type": "code",
   "execution_count": null,
   "metadata": {},
   "outputs": [],
   "source": [
    "listings[[\"price\", \"bedrooms\"]].corr()"
   ]
  },
  {
   "cell_type": "markdown",
   "metadata": {},
   "source": [
    "This gives you a **correlation matrix** that tells you that\n",
    "\n",
    "$$\n",
    "r_{price,price} = 1\\\\\n",
    "r_{price,bedrooms} = r_{bedrooms,price} = 0.454539\n",
    "$$\n",
    "\n",
    "If you want to extract only $r_{price,bedrooms}$, you can index the resulting object like this:"
   ]
  },
  {
   "cell_type": "markdown",
   "metadata": {},
   "source": [
    "This would be the correlation matrix for all the variables in the DataFrame:"
   ]
  },
  {
   "cell_type": "code",
   "execution_count": null,
   "metadata": {},
   "outputs": [],
   "source": [
    "corrm = listings.corr()\n",
    "corrm"
   ]
  },
  {
   "cell_type": "markdown",
   "metadata": {
    "tags": [
     "8_min"
    ]
   },
   "source": [
    "### Exercise 3\n",
    "\n",
    "Write code to print the columns which are positively correlated with `price`, from most positive to least positive. Similarly, print the columns which are negatively correlated, from most negative to least negative."
   ]
  },
  {
   "cell_type": "markdown",
   "metadata": {
    "tags": [
     "ans_st"
    ]
   },
   "source": [
    "**Answer.**"
   ]
  },
  {
   "cell_type": "markdown",
   "metadata": {},
   "source": [
    "-------"
   ]
  },
  {
   "cell_type": "markdown",
   "metadata": {
    "tags": [
     "8_min"
    ]
   },
   "source": [
    "## Location, location, location!\n",
    "\n",
    "Let's create an interactive map of New York. This can be easily done with the `folium` package:"
   ]
  },
  {
   "cell_type": "code",
   "execution_count": null,
   "metadata": {},
   "outputs": [],
   "source": [
    "folium_map = folium.Map()\n",
    "folium_map"
   ]
  },
  {
   "cell_type": "markdown",
   "metadata": {},
   "source": [
    "This is certainly a nice map, but it is not a map of New York yet. We know that New York's coordinates are latitude 40.738 (Northern hemisphere) and longitude -73.98 (Western hemisphere), so let's set that as the center of our map:"
   ]
  },
  {
   "cell_type": "code",
   "execution_count": null,
   "metadata": {},
   "outputs": [],
   "source": [
    "ny_coords = [40.738, -73.98] # lat, long\n",
    "folium_map = folium.Map(location=ny_coords)\n",
    "folium_map"
   ]
  },
  {
   "cell_type": "markdown",
   "metadata": {},
   "source": [
    "This looks much better. We can set a default zoom that gives a closer view of the city:"
   ]
  },
  {
   "cell_type": "code",
   "execution_count": null,
   "metadata": {},
   "outputs": [],
   "source": [
    "ny_coords = [40.738, -73.98] # lat, long\n",
    "folium_map = folium.Map(location=ny_coords, zoom_start=13)\n",
    "folium_map"
   ]
  },
  {
   "cell_type": "markdown",
   "metadata": {},
   "source": [
    "We can also change the title (the default is `OpenStreetMap`):"
   ]
  },
  {
   "cell_type": "code",
   "execution_count": null,
   "metadata": {},
   "outputs": [],
   "source": [
    "ny_coords = [40.738, -73.98] # lat, long\n",
    "folium_map = folium.Map(location=ny_coords, zoom_start=13, tiles=\"OpenStreetMap\")\n",
    "folium_map"
   ]
  },
  {
   "cell_type": "markdown",
   "metadata": {
    "tags": [
     "5_min"
    ]
   },
   "source": [
    "### Exercise 4 (optional)\n",
    "\n",
    "There are other styles available for the `tiles` argument:\n",
    "\n",
    "* `Stamen Toner`\n",
    "* `Stamen Terrain`\n",
    "* `Stamen Watercolor`\n",
    "* `CartoDB positron`\n",
    "* `CartoDB dark_matter`\n",
    "\n",
    "Experiment with each one of these styles and take a screenshot of your favorite one. Then share it with the class."
   ]
  },
  {
   "cell_type": "markdown",
   "metadata": {
    "tags": [
     "12_min"
    ]
   },
   "source": [
    "### Using heat maps to understand the price distribution with location\n",
    "\n",
    "Next, we create a heat map of the price of apartments in NYC. This will give us a sense of where the important locations are. First, the canvas:"
   ]
  },
  {
   "cell_type": "code",
   "execution_count": null,
   "metadata": {},
   "outputs": [],
   "source": [
    "folium_hmap = folium.Map(location=ny_coords, zoom_start=13, tiles=\"OpenStreetMap\")"
   ]
  },
  {
   "cell_type": "markdown",
   "metadata": {},
   "source": [
    "Now we prepare the data. `folium` needs a list in which each element contains the `latitude`, the `longitude`, and the `price` of the listing. We can use Python's handy [**`zip()`**](https://www.w3schools.com/python/ref_func_zip.asp) function, which takes two iterables and matches their elements one-by-one pairwise, like this:\n",
    "\n",
    "![The zip function](data/images/zip_function.png)\n",
    "\n",
    "**Note:** In order to inspect the elements inside a `zip` object, we first need to convert it into a list."
   ]
  },
  {
   "cell_type": "code",
   "execution_count": null,
   "metadata": {},
   "outputs": [],
   "source": [
    "my_zip = zip(listings['latitude'], listings['longitude'], listings['price'])\n",
    "list_of_my_zip = list(my_zip)\n",
    "list_of_my_zip[0:15]"
   ]
  },
  {
   "cell_type": "markdown",
   "metadata": {},
   "source": [
    "The next step is to create a `HeatMap` layer with the data:"
   ]
  },
  {
   "cell_type": "code",
   "execution_count": null,
   "metadata": {},
   "outputs": [],
   "source": [
    "hm_layer = HeatMap(list_of_my_zip,\n",
    "                   # These are parameters that we tweak manually to adjust color\n",
    "                   # See folium docs for more information\n",
    "                   min_opacity=0.2,\n",
    "                   radius=8,\n",
    "                   blur=6, \n",
    "                 )"
   ]
  },
  {
   "cell_type": "markdown",
   "metadata": {},
   "source": [
    "We can finally add this layer to our map and see the result:"
   ]
  },
  {
   "cell_type": "code",
   "execution_count": null,
   "metadata": {},
   "outputs": [],
   "source": [
    "folium_hmap.add_child(hm_layer)\n",
    "folium_hmap"
   ]
  },
  {
   "cell_type": "markdown",
   "metadata": {},
   "source": [
    "Let's save the map as HTML, so that we can share it later with people who don't have Jupyter in their computers. As HTML files, Folium maps can be visualized using any modern browser."
   ]
  },
  {
   "cell_type": "code",
   "execution_count": null,
   "metadata": {},
   "outputs": [],
   "source": [
    "folium_hmap.save(\"hmap.html\")"
   ]
  },
  {
   "cell_type": "markdown",
   "metadata": {},
   "source": [
    "To test that everything worked correctly, go to your folder and look for the `hmap.html` file. Then open it with your browser."
   ]
  },
  {
   "cell_type": "markdown",
   "metadata": {
    "tags": [
     "7_min"
    ]
   },
   "source": [
    "### Exercise 5 (optional)\n",
    "\n",
    "Make a heat map using `folium` like the one we just made, only this time make the temperature of the map dependent on `review_score_rating` rather than on `price`.\n",
    "\n",
    "**Hint:** You will need to remove null values from your DataFrame. To avoid discarding rows that contain useful data for the analyses that come after this exercise, don't overwrite `listings` - rather, create a new DataFrame that does not contain nulls and make your map with that."
   ]
  },
  {
   "cell_type": "markdown",
   "metadata": {
    "tags": [
     "ans_st"
    ]
   },
   "source": [
    "**Answer.**"
   ]
  },
  {
   "cell_type": "markdown",
   "metadata": {},
   "source": [
    "-------"
   ]
  },
  {
   "cell_type": "markdown",
   "metadata": {},
   "source": [
    "When looking at the list of correlations, ```parking``` stood out as having a surprisingly negative correlation with price. We've seen that location has a strong influence on price; let's see if it can help explain the negative correlation exhibited by ```parking```."
   ]
  },
  {
   "cell_type": "markdown",
   "metadata": {
    "tags": [
     "10_min"
    ]
   },
   "source": [
    "### Example 2\n",
    "\n",
    "Write code here to plot the first 1,000 locations on the map where parking is available in blue color, and the first 1000 locations where parking is not available in red color.\n",
    "\n",
    "**Hint:** You can use the commands `color = \"blue\"` and `color = \"red\"` respectively."
   ]
  },
  {
   "cell_type": "markdown",
   "metadata": {},
   "source": [
    "**Answer.** One possible solution is given below:"
   ]
  },
  {
   "cell_type": "code",
   "execution_count": null,
   "metadata": {},
   "outputs": [],
   "source": [
    "lat_log_parking_yes = listings.loc[ listings['parking']==1.0, [\"latitude\",\"longitude\" ] ]\n",
    "lat_log_parking_no = listings.loc[ listings['parking']==-1.0, [\"latitude\",\"longitude\" ] ]\n",
    "folium_map = folium.Map(location=[40.738, -73.98],\n",
    "                        zoom_start=13,\n",
    "                        tiles=\"OpenStreetMap\")\n",
    "for i in range(1000):\n",
    "    marker = folium.CircleMarker(location=[lat_log_parking_yes[\"latitude\"].iloc[i],lat_log_parking_yes[\"longitude\"].iloc[i]],radius=5,color=\"blue\",fill=True)\n",
    "    marker.add_to(folium_map)\n",
    "\n",
    "for i in range(1000):\n",
    "    marker = folium.CircleMarker(location=[lat_log_parking_no[\"latitude\"].iloc[i],lat_log_parking_no[\"longitude\"].iloc[i]],radius=5,color=\"red\",fill=True)\n",
    "    marker.add_to(folium_map)    \n",
    "    \n",
    "folium_map"
   ]
  },
  {
   "cell_type": "markdown",
   "metadata": {
    "tags": [
     "4_min"
    ]
   },
   "source": [
    "## Interaction effects\n",
    "\n",
    "Let's find the correlation between `price` and `parking` for each `neighborhood`. This is easily done with the `.groupby()` method:"
   ]
  },
  {
   "cell_type": "code",
   "execution_count": null,
   "metadata": {},
   "outputs": [],
   "source": [
    "cbn = listings.groupby(\"neighbourhood\")[[\"price\", \"parking\"]].corr()\n",
    "cbn"
   ]
  },
  {
   "cell_type": "markdown",
   "metadata": {},
   "source": [
    "Let's filter out redundant information:"
   ]
  },
  {
   "cell_type": "code",
   "execution_count": null,
   "metadata": {},
   "outputs": [],
   "source": [
    "cbn = cbn.reset_index()\n",
    "cbn = cbn.drop(columns=[\"parking\"])\n",
    "cbn.columns = [\"neighbourhood\", \"variable\", \"r_parking_price\"]\n",
    "cbn = cbn[cbn[\"variable\"]==\"parking\"]\n",
    "cbn = cbn.drop(columns=[\"variable\"])\n",
    "cbn"
   ]
  },
  {
   "cell_type": "markdown",
   "metadata": {
    "tags": [
     "7_min"
    ]
   },
   "source": [
    "### Exercise 6\n",
    "\n",
    "Find out how many neighborhoods present a strongly negative, mildly negative, mildly positive, and strongly positive correlation between `price` and `parking`. Specifically, we want to know how many neighborhoods show a correlation between -1 and -0.5, between -0.5 and 0, between 0 and 0.5 and between 0.5 and 1.\n",
    "\n",
    "**Hint:** For this, you can use the [`.plot.hist()`](https://pandas.pydata.org/pandas-docs/stable/reference/api/pandas.DataFrame.plot.hist.html) method again, this time specifying the bins you want the data to be split into."
   ]
  },
  {
   "cell_type": "markdown",
   "metadata": {
    "tags": [
     "ans_st"
    ]
   },
   "source": [
    "**Answer.**"
   ]
  },
  {
   "cell_type": "markdown",
   "metadata": {},
   "source": [
    "-------"
   ]
  },
  {
   "cell_type": "markdown",
   "metadata": {
    "tags": [
     "12_min"
    ]
   },
   "source": [
    "### Exercise 7\n",
    "\n",
    "Create four density plots that overlay the distribution of price for parking and non-parking, for each of the following neighborhoods: `St. George`, `Greenwood Heights`, `Rego Park`, and `Brooklyn Navy Yard`.\n",
    "\n",
    "**Hint:** Use the [`sns.kdeplot()`](https://seaborn.pydata.org/generated/seaborn.kdeplot.html) function and the `hue` argument."
   ]
  },
  {
   "cell_type": "markdown",
   "metadata": {
    "tags": [
     "ans_st"
    ]
   },
   "source": [
    "**Answer.**"
   ]
  },
  {
   "cell_type": "markdown",
   "metadata": {},
   "source": [
    "-------"
   ]
  },
  {
   "cell_type": "markdown",
   "metadata": {
    "tags": [
     "8_min"
    ]
   },
   "source": [
    "### Exercise 8\n",
    "\n",
    "Plot average property price across all locations as a time series. The relevant dataset is `data/scal.csv`.\n",
    "\n",
    "**Hint:** Use the `pd.to_datetime()` function with the `format=\"%Y%m%d\"` argument to process the dates."
   ]
  },
  {
   "cell_type": "markdown",
   "metadata": {
    "tags": [
     "ans_st"
    ]
   },
   "source": [
    "**Answer.**"
   ]
  },
  {
   "cell_type": "markdown",
   "metadata": {},
   "source": [
    "-------"
   ]
  },
  {
   "cell_type": "markdown",
   "metadata": {},
   "source": [
    "## Attribution\n",
    "\n",
    "\"New York\", Inside Airbnb, [Public Domain](http://creativecommons.org/publicdomain/zero/1.0/), http://insideairbnb.com/get-the-data.html"
   ]
  }
 ],
 "metadata": {
  "c1_recart": "6.5.0-57c20131aabc1dc2a8c675852d80a7da"
 },
 "nbformat": 4,
 "nbformat_minor": 2
}
